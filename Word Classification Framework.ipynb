{
 "cells": [
  {
   "cell_type": "code",
   "execution_count": 2,
   "metadata": {},
   "outputs": [],
   "source": [
    "import pandas as pd\n",
    "import numpy as np\n",
    "import matplotlib.pyplot as plt"
   ]
  },
  {
   "cell_type": "markdown",
   "metadata": {},
   "source": [
    "# 0. Data Reading and Handling"
   ]
  },
  {
   "cell_type": "code",
   "execution_count": 3,
   "metadata": {},
   "outputs": [],
   "source": [
    "df_eng = pd.read_csv('Eng.csv')\n",
    "df_eng.columns = ['word']\n",
    "df_eng['language'] = 'eng'"
   ]
  },
  {
   "cell_type": "code",
   "execution_count": 4,
   "metadata": {
    "scrolled": false
   },
   "outputs": [
    {
     "data": {
      "text/html": [
       "<div>\n",
       "<style scoped>\n",
       "    .dataframe tbody tr th:only-of-type {\n",
       "        vertical-align: middle;\n",
       "    }\n",
       "\n",
       "    .dataframe tbody tr th {\n",
       "        vertical-align: top;\n",
       "    }\n",
       "\n",
       "    .dataframe thead th {\n",
       "        text-align: right;\n",
       "    }\n",
       "</style>\n",
       "<table border=\"1\" class=\"dataframe\">\n",
       "  <thead>\n",
       "    <tr style=\"text-align: right;\">\n",
       "      <th></th>\n",
       "      <th>word</th>\n",
       "      <th>language</th>\n",
       "    </tr>\n",
       "  </thead>\n",
       "  <tbody>\n",
       "    <tr>\n",
       "      <th>19278</th>\n",
       "      <td>NaN</td>\n",
       "      <td>eng</td>\n",
       "    </tr>\n",
       "  </tbody>\n",
       "</table>\n",
       "</div>"
      ],
      "text/plain": [
       "      word language\n",
       "19278  NaN      eng"
      ]
     },
     "execution_count": 4,
     "metadata": {},
     "output_type": "execute_result"
    }
   ],
   "source": [
    "df_eng[df_eng['word'].isna()]"
   ]
  },
  {
   "cell_type": "markdown",
   "metadata": {},
   "source": [
    "- pandas csv_reader interpreted the word 'null' as NaN so I fix that"
   ]
  },
  {
   "cell_type": "code",
   "execution_count": 5,
   "metadata": {},
   "outputs": [],
   "source": [
    "df_eng = df_eng.fillna('null') "
   ]
  },
  {
   "cell_type": "code",
   "execution_count": 6,
   "metadata": {},
   "outputs": [],
   "source": [
    "df_tr = pd.read_csv('Turkish.csv')\n",
    "df_tr.columns = ['word']\n",
    "df_tr['language'] = 'tr'"
   ]
  },
  {
   "cell_type": "code",
   "execution_count": 7,
   "metadata": {
    "scrolled": true
   },
   "outputs": [
    {
     "data": {
      "text/html": [
       "<div>\n",
       "<style scoped>\n",
       "    .dataframe tbody tr th:only-of-type {\n",
       "        vertical-align: middle;\n",
       "    }\n",
       "\n",
       "    .dataframe tbody tr th {\n",
       "        vertical-align: top;\n",
       "    }\n",
       "\n",
       "    .dataframe thead th {\n",
       "        text-align: right;\n",
       "    }\n",
       "</style>\n",
       "<table border=\"1\" class=\"dataframe\">\n",
       "  <thead>\n",
       "    <tr style=\"text-align: right;\">\n",
       "      <th></th>\n",
       "      <th>word</th>\n",
       "      <th>language</th>\n",
       "    </tr>\n",
       "  </thead>\n",
       "  <tbody>\n",
       "    <tr>\n",
       "      <th>223</th>\n",
       "      <td>bes on</td>\n",
       "      <td>tr</td>\n",
       "    </tr>\n",
       "    <tr>\n",
       "      <th>357</th>\n",
       "      <td>v yaka</td>\n",
       "      <td>tr</td>\n",
       "    </tr>\n",
       "    <tr>\n",
       "      <th>533</th>\n",
       "      <td>el gun</td>\n",
       "      <td>tr</td>\n",
       "    </tr>\n",
       "    <tr>\n",
       "      <th>605</th>\n",
       "      <td>ak kan</td>\n",
       "      <td>tr</td>\n",
       "    </tr>\n",
       "    <tr>\n",
       "      <th>680</th>\n",
       "      <td>ak yem</td>\n",
       "      <td>tr</td>\n",
       "    </tr>\n",
       "    <tr>\n",
       "      <th>750</th>\n",
       "      <td>lop et</td>\n",
       "      <td>tr</td>\n",
       "    </tr>\n",
       "    <tr>\n",
       "      <th>919</th>\n",
       "      <td>on soz</td>\n",
       "      <td>tr</td>\n",
       "    </tr>\n",
       "    <tr>\n",
       "      <th>961</th>\n",
       "      <td>on kol</td>\n",
       "      <td>tr</td>\n",
       "    </tr>\n",
       "    <tr>\n",
       "      <th>994</th>\n",
       "      <td>oz isi</td>\n",
       "      <td>tr</td>\n",
       "    </tr>\n",
       "    <tr>\n",
       "      <th>1054</th>\n",
       "      <td>uc iki</td>\n",
       "      <td>tr</td>\n",
       "    </tr>\n",
       "    <tr>\n",
       "      <th>1888</th>\n",
       "      <td>ic isi</td>\n",
       "      <td>tr</td>\n",
       "    </tr>\n",
       "  </tbody>\n",
       "</table>\n",
       "</div>"
      ],
      "text/plain": [
       "        word language\n",
       "223   bes on       tr\n",
       "357   v yaka       tr\n",
       "533   el gun       tr\n",
       "605   ak kan       tr\n",
       "680   ak yem       tr\n",
       "750   lop et       tr\n",
       "919   on soz       tr\n",
       "961   on kol       tr\n",
       "994   oz isi       tr\n",
       "1054  uc iki       tr\n",
       "1888  ic isi       tr"
      ]
     },
     "execution_count": 7,
     "metadata": {},
     "output_type": "execute_result"
    }
   ],
   "source": [
    "df_tr[df_tr['word'].str.contains(' ')]"
   ]
  },
  {
   "cell_type": "markdown",
   "metadata": {},
   "source": [
    "- There are some words that are not actually single words.\n",
    "- I will create new rows by splitting them\n",
    "- I will drop 'v' since it is a single letter with no meaning without 'yaka'\n",
    "- I will also drop duplicates in the cases above since there are many'on'"
   ]
  },
  {
   "cell_type": "code",
   "execution_count": 8,
   "metadata": {
    "scrolled": true
   },
   "outputs": [
    {
     "name": "stdout",
     "output_type": "stream",
     "text": [
      "['ak' 'bes' 'el' 'et' 'gun' 'ic' 'iki' 'isi' 'kan' 'kol' 'lop' 'on' 'oz'\n",
      " 'soz' 'uc' 'yaka' 'yem']\n"
     ]
    }
   ],
   "source": [
    "singlized_words = np.unique(np.reshape(df_tr[df_tr['word'].str.contains(' ')]['word'].str.split(\" \").values.tolist(), -1))\n",
    "singlized_words = singlized_words[singlized_words != 'v']\n",
    "print(singlized_words)"
   ]
  },
  {
   "cell_type": "markdown",
   "metadata": {},
   "source": [
    "- Now drop rows with double words and add these words into the dataframe as rows"
   ]
  },
  {
   "cell_type": "code",
   "execution_count": 9,
   "metadata": {},
   "outputs": [],
   "source": [
    "df_tr = df_tr[~df_tr['word'].str.contains(' ')]"
   ]
  },
  {
   "cell_type": "code",
   "execution_count": 10,
   "metadata": {},
   "outputs": [
    {
     "data": {
      "text/html": [
       "<div>\n",
       "<style scoped>\n",
       "    .dataframe tbody tr th:only-of-type {\n",
       "        vertical-align: middle;\n",
       "    }\n",
       "\n",
       "    .dataframe tbody tr th {\n",
       "        vertical-align: top;\n",
       "    }\n",
       "\n",
       "    .dataframe thead th {\n",
       "        text-align: right;\n",
       "    }\n",
       "</style>\n",
       "<table border=\"1\" class=\"dataframe\">\n",
       "  <thead>\n",
       "    <tr style=\"text-align: right;\">\n",
       "      <th></th>\n",
       "      <th>word</th>\n",
       "      <th>language</th>\n",
       "    </tr>\n",
       "  </thead>\n",
       "  <tbody>\n",
       "  </tbody>\n",
       "</table>\n",
       "</div>"
      ],
      "text/plain": [
       "Empty DataFrame\n",
       "Columns: [word, language]\n",
       "Index: []"
      ]
     },
     "execution_count": 10,
     "metadata": {},
     "output_type": "execute_result"
    }
   ],
   "source": [
    "df_tr[df_tr['word'].str.contains(' ')]"
   ]
  },
  {
   "cell_type": "markdown",
   "metadata": {},
   "source": [
    "- Done"
   ]
  },
  {
   "cell_type": "code",
   "execution_count": 11,
   "metadata": {
    "scrolled": true
   },
   "outputs": [
    {
     "data": {
      "text/html": [
       "<div>\n",
       "<style scoped>\n",
       "    .dataframe tbody tr th:only-of-type {\n",
       "        vertical-align: middle;\n",
       "    }\n",
       "\n",
       "    .dataframe tbody tr th {\n",
       "        vertical-align: top;\n",
       "    }\n",
       "\n",
       "    .dataframe thead th {\n",
       "        text-align: right;\n",
       "    }\n",
       "</style>\n",
       "<table border=\"1\" class=\"dataframe\">\n",
       "  <thead>\n",
       "    <tr style=\"text-align: right;\">\n",
       "      <th></th>\n",
       "      <th>word</th>\n",
       "      <th>language</th>\n",
       "    </tr>\n",
       "  </thead>\n",
       "  <tbody>\n",
       "    <tr>\n",
       "      <th>2231</th>\n",
       "      <td>isi</td>\n",
       "      <td>tr</td>\n",
       "    </tr>\n",
       "    <tr>\n",
       "      <th>2232</th>\n",
       "      <td>kan</td>\n",
       "      <td>tr</td>\n",
       "    </tr>\n",
       "    <tr>\n",
       "      <th>2233</th>\n",
       "      <td>kol</td>\n",
       "      <td>tr</td>\n",
       "    </tr>\n",
       "    <tr>\n",
       "      <th>2234</th>\n",
       "      <td>lop</td>\n",
       "      <td>tr</td>\n",
       "    </tr>\n",
       "    <tr>\n",
       "      <th>2235</th>\n",
       "      <td>on</td>\n",
       "      <td>tr</td>\n",
       "    </tr>\n",
       "    <tr>\n",
       "      <th>2236</th>\n",
       "      <td>oz</td>\n",
       "      <td>tr</td>\n",
       "    </tr>\n",
       "    <tr>\n",
       "      <th>2237</th>\n",
       "      <td>soz</td>\n",
       "      <td>tr</td>\n",
       "    </tr>\n",
       "    <tr>\n",
       "      <th>2238</th>\n",
       "      <td>uc</td>\n",
       "      <td>tr</td>\n",
       "    </tr>\n",
       "    <tr>\n",
       "      <th>2239</th>\n",
       "      <td>yaka</td>\n",
       "      <td>tr</td>\n",
       "    </tr>\n",
       "    <tr>\n",
       "      <th>2240</th>\n",
       "      <td>yem</td>\n",
       "      <td>tr</td>\n",
       "    </tr>\n",
       "  </tbody>\n",
       "</table>\n",
       "</div>"
      ],
      "text/plain": [
       "      word language\n",
       "2231   isi       tr\n",
       "2232   kan       tr\n",
       "2233   kol       tr\n",
       "2234   lop       tr\n",
       "2235    on       tr\n",
       "2236    oz       tr\n",
       "2237   soz       tr\n",
       "2238    uc       tr\n",
       "2239  yaka       tr\n",
       "2240   yem       tr"
      ]
     },
     "execution_count": 11,
     "metadata": {},
     "output_type": "execute_result"
    }
   ],
   "source": [
    "df_tr = pd.concat([df_tr, pd.DataFrame({'word': singlized_words, 'language': 'tr'})]).reset_index(\n",
    "    drop = True)\n",
    "df_tr.tail(10)"
   ]
  },
  {
   "cell_type": "markdown",
   "metadata": {},
   "source": [
    "- OK they are added to the tail"
   ]
  },
  {
   "cell_type": "markdown",
   "metadata": {},
   "source": [
    "- Finally I can merge both tr and eng words into single table"
   ]
  },
  {
   "cell_type": "code",
   "execution_count": 12,
   "metadata": {},
   "outputs": [],
   "source": [
    "df = pd.concat([df_eng, df_tr]).reset_index(drop = True)"
   ]
  },
  {
   "cell_type": "markdown",
   "metadata": {},
   "source": [
    "# 1. Language Classification"
   ]
  },
  {
   "cell_type": "markdown",
   "metadata": {},
   "source": [
    "I will create features below that I think might and will distinguish english words and turkish words from each other, 'syntatically'\n",
    "### Features:\n",
    "- Length of word\n",
    "- Number of vowels / number of consonants ratio\n",
    "- Number of consecutive vowels islands: \n",
    "        - in 'aabbbbcee' there are 2 islands of consecutive vowels made of a's and e's\n",
    "- Number of consecutive consonants islands: \n",
    "        - similar to above, in 'aabbbbcee', there is a single island of consecutive consonants\n",
    "- Max of consecutive vowel islands: \n",
    "        - in case there's more than 1 islands, the size of the biggest island\n",
    "- Max of consecutive consonant islands: \n",
    "        - in case there's more than 1 islands, the size of the biggest island\n",
    "- Number of unique letters / length of word\n",
    "- Most frequently occured letter and second most frequntly occured letter\n",
    "- Most frequently occured vowel\n",
    "- Most frequently occured consonant\n",
    "- Does it contain w, x, q\n",
    "- Number of consecutive vowel-consonant switches / length of word: \n",
    "        - for example, there are 4 switches from vowels to consonants in 'araba', normalized by 5, we obtain 0.8. This can be distinctive because by nature, this happens a lot especially in original Turkish words.\n",
    "- Number of consecutive letter repetitions: \n",
    "        - in the word 'mükerrer' there is one repetition of consecutive letters\n",
    "- Does it start/end with english common prefixes/suffixes such as -ing, -ed, etc...\n",
    "- One-Hot Encoding of Letters with number of occurences as values\n",
    "        - this is rather straightforward approach but this way model can tell us which words vary between Turkish and English."
   ]
  },
  {
   "cell_type": "markdown",
   "metadata": {},
   "source": [
    "- Helper Objects and Functions"
   ]
  },
  {
   "cell_type": "code",
   "execution_count": 13,
   "metadata": {},
   "outputs": [],
   "source": [
    "# Vowels and Consonants\n",
    "vowels = ['a', 'e', 'i', 'o', 'u']\n",
    "consonants = ['b', 'c', 'd', 'f', 'g', 'h', 'j', 'k', 'l', 'm', 'n', 'p', 'q', 'r', 's', 't', 'v', 'w', 'x', 'y', 'z']\n",
    "\n",
    "# Helper Function that counts consecutive Trues in Boolean Lists\n",
    "def consecutive_features(lst):\n",
    "    a = np.array([lst]).T\n",
    "    pad = np.zeros(a.shape[1],dtype=bool)\n",
    "    mask = np.vstack((pad, a, pad))\n",
    "\n",
    "    mask_step = mask[1:] != mask[:-1]\n",
    "    idx = np.flatnonzero(mask_step.T)\n",
    "    #island_starts = idx[::2]  # Not needed currently\n",
    "    island_lens = idx[1::2] - idx[::2]\n",
    "    return island_lens"
   ]
  },
  {
   "cell_type": "code",
   "execution_count": 14,
   "metadata": {},
   "outputs": [],
   "source": [
    "features = []\n",
    "for word in df['word']:\n",
    "\n",
    "    # length of word\n",
    "    length = len(word)\n",
    "\n",
    "    # ----------------------------------------------------------------------------\n",
    "\n",
    "    # number of vowels / consonants ratio\n",
    "    number_of_vowels = 0\n",
    "    number_of_consonants = 0\n",
    "    for letter in word:\n",
    "        if letter in vowels:\n",
    "            number_of_vowels +=1\n",
    "        else:\n",
    "            number_of_consonants +=1\n",
    "\n",
    "    vowels_consonants_ratio = number_of_vowels / (number_of_consonants + number_of_vowels)\n",
    "\n",
    "\n",
    "    # ----------------------------------------------------------------------------\n",
    "    # number of consecutive vowels islands\n",
    "    # number of consecutive consonants islands\n",
    "    # max of consecutive vowel islands\n",
    "    # max of consecutive consonant islands\n",
    "\n",
    "    binary_vowels = []\n",
    "    binary_consonants = []\n",
    "    for letter in word:\n",
    "        if letter in vowels:\n",
    "            binary_vowels.append(True)\n",
    "            binary_consonants.append(False)\n",
    "        else:\n",
    "            binary_vowels.append(False)\n",
    "            binary_consonants.append(True)\n",
    "\n",
    "    # Vowels:\n",
    "    vowel_islands = consecutive_features(binary_vowels)\n",
    "    ones_removed = vowel_islands[vowel_islands != 1]\n",
    "\n",
    "    number_of_consecutive_vowel_islands = len(ones_removed)\n",
    "\n",
    "    if len(ones_removed) == 0:\n",
    "        max_of_consecutive_vowel_islands = 0\n",
    "    else:\n",
    "        max_of_consecutive_vowel_islands = max(ones_removed)\n",
    "\n",
    "    # Consonants:\n",
    "    consonant_islands = consecutive_features(binary_consonants)\n",
    "    ones_removed = consonant_islands[consonant_islands != 1]\n",
    "\n",
    "    number_of_consecutive_consonant_islands = len(ones_removed)\n",
    "\n",
    "    if len(ones_removed) == 0:\n",
    "        max_of_consecutive_consonant_islands = 0\n",
    "    else:\n",
    "        max_of_consecutive_consonant_islands = max(ones_removed)\n",
    "\n",
    "    # ----------------------------------------------------------------------------\n",
    "    # number of unique letters\n",
    "    # number of unique letters / len of word ratio\n",
    "    # most frequent letter\n",
    "    unique_letters, counts = np.unique(list(word), return_counts=True)\n",
    "    number_of_unique_letters = len(unique_letters)\n",
    "    number_of_unique_letters_over_len_word = number_of_unique_letters / len(word)\n",
    "    most_frequent_letter = unique_letters[np.argmax(counts)]\n",
    "\n",
    "    # second most frequent letter\n",
    "    if number_of_unique_letters > 1:\n",
    "        counts = np.delete(counts, np.argmax(counts))\n",
    "        unique_letters = np.delete(unique_letters, np.argmax(counts))\n",
    "        second_most_frequent_letter = unique_letters[np.argmax(counts)]\n",
    "    else:\n",
    "        second_most_frequent_letter = 'None'\n",
    "\n",
    "    # ----------------------------------------------------------------------------\n",
    "    # most frequent vowel and consonant\n",
    "    vowels_in_word = np.array(list(word))[np.in1d(np.array(list(word)), vowels)]\n",
    "    consonants_in_word = np.array(list(word))[np.in1d(np.array(list(word)), consonants)]\n",
    "\n",
    "    # most frequent vowel\n",
    "    unique_letters, counts = np.unique(vowels_in_word, return_counts=True)\n",
    "    if len(unique_letters) != 0:\n",
    "        most_frequent_vowel = unique_letters[np.argmax(counts)]\n",
    "    else:\n",
    "        most_frequent_vowel = 'None'\n",
    "        \n",
    "    # most frequent consonant\n",
    "    unique_letters, counts = np.unique(consonants_in_word, return_counts=True)\n",
    "    if len(unique_letters) != 0:\n",
    "        most_frequent_consonant = unique_letters[np.argmax(counts)]\n",
    "    else:\n",
    "        most_frequent_consonant = 'None'\n",
    "\n",
    "    # ----------------------------------------------------------------------------\n",
    "\n",
    "    # does it contain q, w, x\n",
    "    contains_qwx_letters = ('q' in word) or ('w' in word) or ('x' in word)\n",
    "\n",
    "\n",
    "    # ----------------------------------------------------------------------------\n",
    "\n",
    "    # Number of vowel-to-consonant / consonant-to-vowel switches\n",
    "    number_of_vowel_consonant_switches = 0\n",
    "    for i in range(len(word) - 1):\n",
    "        if ((word[i] in vowels) & (word[i+1] in consonants)) or (\n",
    "            (word[i] in consonants) & (word[i+1] in vowels)):\n",
    "            number_of_vowel_consonant_switches += 1\n",
    "    number_of_vowel_consonant_switches = number_of_vowel_consonant_switches / length \n",
    "    # Normalizing according to word length\n",
    "\n",
    "\n",
    "    # ----------------------------------------------------------------------------\n",
    "\n",
    "    # Number of consecutive letter repetitions\n",
    "    lst_consecutive_same_letters = []\n",
    "    for i in range(len(word) - 1):\n",
    "        if word[i] == word[i+1]:\n",
    "            lst_consecutive_same_letters.append(True)\n",
    "        else:\n",
    "            lst_consecutive_same_letters.append(False)\n",
    "\n",
    "    consecutive_features_list = consecutive_features(lst_consecutive_same_letters)\n",
    "    number_of_letter_repetitions = len(consecutive_features_list)\n",
    "    \n",
    "    # ----------------------------------------------------------------------------\n",
    "    \n",
    "    # Prefixes\n",
    "    prefixes = ['re', 'dis', 'over', 'un', 'mis', 'out', 'be', 'co', 'de', 'fore', 'inter', 'pre', 'sub', 'trans', 'under',\n",
    "                'anti', 'auto', 'bi', 'co', 'counter', 'dis', 'ex', 'hyper', 'in', 'inter', 'kilo', 'mal', 'mega', 'mis',\n",
    "                'mini', 'mono', 'neo', 'out', 'poly', 'psuedo', 're', 'semi', 'sub', 'super', 'sur', 'tele', 'tri', 'ultra',\n",
    "                'under', 'vice', 'un', 'im', 'in', 'ir', 'il', 'non', 'dis']\n",
    "\n",
    "    contains_eng_prefix = False\n",
    "    for prefix in prefixes:\n",
    "        if word[0:len(prefix)] == prefix:\n",
    "            contains_eng_prefix = True\n",
    "            break\n",
    "\n",
    "    \n",
    "    # Suffixes\n",
    "    suffixes = ['ise', 'ate', 'fy', 'en', 'tion', 'sion', 'er', 'ment', 'ant', 'ent', 'age', 'al', 'ence', 'ance', 'ery', 'ry',\n",
    "                'ism', 'ship', 'ity', 'ness', 'cy', 'al', 'ent', 'ive', 'ous', 'ful', 'less', 'able']\n",
    "    contains_eng_suffix = False\n",
    "    for suffix in suffixes:\n",
    "        if word[-len(suffix):] == suffix:\n",
    "            contains_eng_suffix = True\n",
    "            break\n",
    "\n",
    "    # ----------------------------------------------------------------------------\n",
    "\n",
    "    features.append([length, vowels_consonants_ratio, number_of_consecutive_vowel_islands, \n",
    "                     number_of_consecutive_consonant_islands, max_of_consecutive_vowel_islands, \n",
    "                     max_of_consecutive_consonant_islands, number_of_unique_letters,\n",
    "                     number_of_unique_letters_over_len_word, most_frequent_letter, second_most_frequent_letter,\n",
    "                     most_frequent_vowel, most_frequent_consonant, contains_qwx_letters,\n",
    "                     number_of_vowel_consonant_switches, number_of_letter_repetitions,\n",
    "                     contains_eng_prefix, contains_eng_suffix])\n"
   ]
  },
  {
   "cell_type": "code",
   "execution_count": 15,
   "metadata": {},
   "outputs": [],
   "source": [
    "df_features = pd.DataFrame(features, columns = ['length', 'vowels_consonants_ratio', 'number_of_consecutive_vowel_islands', \n",
    "                     'number_of_consecutive_consonant_islands', 'max_of_consecutive_vowel_islands', \n",
    "                     'max_of_consecutive_consonant_islands', 'number_of_unique_letters',\n",
    "                     'number_of_unique_letters_over_len_word', 'most_frequent_letter', 'second_most_frequent_letter',\n",
    "                     'most_frequent_vowel', 'most_frequent_consonant', 'contains_qwx_letters',\n",
    "                     'number_of_vowel_consonant_switches', 'number_of_letter_repetitions',\n",
    "                                               'contains_eng_prefix', 'contains_eng_suffix'])"
   ]
  },
  {
   "cell_type": "code",
   "execution_count": 16,
   "metadata": {},
   "outputs": [
    {
     "data": {
      "text/html": [
       "<div>\n",
       "<style scoped>\n",
       "    .dataframe tbody tr th:only-of-type {\n",
       "        vertical-align: middle;\n",
       "    }\n",
       "\n",
       "    .dataframe tbody tr th {\n",
       "        vertical-align: top;\n",
       "    }\n",
       "\n",
       "    .dataframe thead th {\n",
       "        text-align: right;\n",
       "    }\n",
       "</style>\n",
       "<table border=\"1\" class=\"dataframe\">\n",
       "  <thead>\n",
       "    <tr style=\"text-align: right;\">\n",
       "      <th></th>\n",
       "      <th>length</th>\n",
       "      <th>vowels_consonants_ratio</th>\n",
       "      <th>number_of_consecutive_vowel_islands</th>\n",
       "      <th>number_of_consecutive_consonant_islands</th>\n",
       "      <th>max_of_consecutive_vowel_islands</th>\n",
       "      <th>max_of_consecutive_consonant_islands</th>\n",
       "      <th>number_of_unique_letters</th>\n",
       "      <th>number_of_unique_letters_over_len_word</th>\n",
       "      <th>most_frequent_letter</th>\n",
       "      <th>second_most_frequent_letter</th>\n",
       "      <th>most_frequent_vowel</th>\n",
       "      <th>most_frequent_consonant</th>\n",
       "      <th>contains_qwx_letters</th>\n",
       "      <th>number_of_vowel_consonant_switches</th>\n",
       "      <th>number_of_letter_repetitions</th>\n",
       "      <th>contains_eng_prefix</th>\n",
       "      <th>contains_eng_suffix</th>\n",
       "    </tr>\n",
       "  </thead>\n",
       "  <tbody>\n",
       "    <tr>\n",
       "      <th>0</th>\n",
       "      <td>6</td>\n",
       "      <td>0.166667</td>\n",
       "      <td>0</td>\n",
       "      <td>2</td>\n",
       "      <td>0</td>\n",
       "      <td>3</td>\n",
       "      <td>6</td>\n",
       "      <td>1.000000</td>\n",
       "      <td>f</td>\n",
       "      <td>g</td>\n",
       "      <td>i</td>\n",
       "      <td>f</td>\n",
       "      <td>False</td>\n",
       "      <td>0.333333</td>\n",
       "      <td>0</td>\n",
       "      <td>False</td>\n",
       "      <td>False</td>\n",
       "    </tr>\n",
       "    <tr>\n",
       "      <th>1</th>\n",
       "      <td>6</td>\n",
       "      <td>0.333333</td>\n",
       "      <td>0</td>\n",
       "      <td>1</td>\n",
       "      <td>0</td>\n",
       "      <td>2</td>\n",
       "      <td>5</td>\n",
       "      <td>0.833333</td>\n",
       "      <td>l</td>\n",
       "      <td>f</td>\n",
       "      <td>e</td>\n",
       "      <td>l</td>\n",
       "      <td>False</td>\n",
       "      <td>0.666667</td>\n",
       "      <td>1</td>\n",
       "      <td>False</td>\n",
       "      <td>False</td>\n",
       "    </tr>\n",
       "    <tr>\n",
       "      <th>2</th>\n",
       "      <td>6</td>\n",
       "      <td>0.500000</td>\n",
       "      <td>1</td>\n",
       "      <td>1</td>\n",
       "      <td>2</td>\n",
       "      <td>2</td>\n",
       "      <td>6</td>\n",
       "      <td>1.000000</td>\n",
       "      <td>a</td>\n",
       "      <td>c</td>\n",
       "      <td>a</td>\n",
       "      <td>c</td>\n",
       "      <td>False</td>\n",
       "      <td>0.500000</td>\n",
       "      <td>0</td>\n",
       "      <td>False</td>\n",
       "      <td>True</td>\n",
       "    </tr>\n",
       "    <tr>\n",
       "      <th>3</th>\n",
       "      <td>6</td>\n",
       "      <td>0.500000</td>\n",
       "      <td>1</td>\n",
       "      <td>0</td>\n",
       "      <td>2</td>\n",
       "      <td>0</td>\n",
       "      <td>6</td>\n",
       "      <td>1.000000</td>\n",
       "      <td>a</td>\n",
       "      <td>d</td>\n",
       "      <td>a</td>\n",
       "      <td>d</td>\n",
       "      <td>False</td>\n",
       "      <td>0.666667</td>\n",
       "      <td>0</td>\n",
       "      <td>False</td>\n",
       "      <td>False</td>\n",
       "    </tr>\n",
       "    <tr>\n",
       "      <th>4</th>\n",
       "      <td>6</td>\n",
       "      <td>0.333333</td>\n",
       "      <td>0</td>\n",
       "      <td>1</td>\n",
       "      <td>0</td>\n",
       "      <td>2</td>\n",
       "      <td>5</td>\n",
       "      <td>0.833333</td>\n",
       "      <td>n</td>\n",
       "      <td>f</td>\n",
       "      <td>a</td>\n",
       "      <td>n</td>\n",
       "      <td>False</td>\n",
       "      <td>0.666667</td>\n",
       "      <td>0</td>\n",
       "      <td>False</td>\n",
       "      <td>False</td>\n",
       "    </tr>\n",
       "  </tbody>\n",
       "</table>\n",
       "</div>"
      ],
      "text/plain": [
       "   length  vowels_consonants_ratio  number_of_consecutive_vowel_islands  \\\n",
       "0       6                 0.166667                                    0   \n",
       "1       6                 0.333333                                    0   \n",
       "2       6                 0.500000                                    1   \n",
       "3       6                 0.500000                                    1   \n",
       "4       6                 0.333333                                    0   \n",
       "\n",
       "   number_of_consecutive_consonant_islands  max_of_consecutive_vowel_islands  \\\n",
       "0                                        2                                 0   \n",
       "1                                        1                                 0   \n",
       "2                                        1                                 2   \n",
       "3                                        0                                 2   \n",
       "4                                        1                                 0   \n",
       "\n",
       "   max_of_consecutive_consonant_islands  number_of_unique_letters  \\\n",
       "0                                     3                         6   \n",
       "1                                     2                         5   \n",
       "2                                     2                         6   \n",
       "3                                     0                         6   \n",
       "4                                     2                         5   \n",
       "\n",
       "   number_of_unique_letters_over_len_word most_frequent_letter  \\\n",
       "0                                1.000000                    f   \n",
       "1                                0.833333                    l   \n",
       "2                                1.000000                    a   \n",
       "3                                1.000000                    a   \n",
       "4                                0.833333                    n   \n",
       "\n",
       "  second_most_frequent_letter most_frequent_vowel most_frequent_consonant  \\\n",
       "0                           g                   i                       f   \n",
       "1                           f                   e                       l   \n",
       "2                           c                   a                       c   \n",
       "3                           d                   a                       d   \n",
       "4                           f                   a                       n   \n",
       "\n",
       "   contains_qwx_letters  number_of_vowel_consonant_switches  \\\n",
       "0                 False                            0.333333   \n",
       "1                 False                            0.666667   \n",
       "2                 False                            0.500000   \n",
       "3                 False                            0.666667   \n",
       "4                 False                            0.666667   \n",
       "\n",
       "   number_of_letter_repetitions  contains_eng_prefix  contains_eng_suffix  \n",
       "0                             0                False                False  \n",
       "1                             1                False                False  \n",
       "2                             0                False                 True  \n",
       "3                             0                False                False  \n",
       "4                             0                False                False  "
      ]
     },
     "execution_count": 16,
     "metadata": {},
     "output_type": "execute_result"
    }
   ],
   "source": [
    "df_features.head()"
   ]
  },
  {
   "cell_type": "code",
   "execution_count": 17,
   "metadata": {},
   "outputs": [],
   "source": [
    "df_features_dummy = pd.get_dummies(df_features)"
   ]
  },
  {
   "cell_type": "markdown",
   "metadata": {},
   "source": [
    "- One-Hot Encoding of Letters with corresponding number of occurence/frequency in the word"
   ]
  },
  {
   "cell_type": "code",
   "execution_count": 18,
   "metadata": {
    "scrolled": true
   },
   "outputs": [
    {
     "name": "stdout",
     "output_type": "stream",
     "text": [
      "CPU times: user 1min 38s, sys: 9.16 s, total: 1min 47s\n",
      "Wall time: 1min 47s\n"
     ]
    }
   ],
   "source": [
    "%%time\n",
    "# one-hot encode for letters with counts\n",
    "df_one_hot_letters = pd.DataFrame()\n",
    "for word in df['word']:\n",
    "    df_one_hot_letters = pd.concat([df_one_hot_letters, pd.Series(\n",
    "        list(word)).str.get_dummies().sum()], axis = 1, sort = True)\n",
    "    \n",
    "df_one_hot_letters = df_one_hot_letters.T.fillna(0).astype(int).reset_index(drop = True)\n",
    "df_one_hot_letters['word'] = df['word'].values\n",
    "df_one_hot_letters['language'] = df['language'].values"
   ]
  },
  {
   "cell_type": "code",
   "execution_count": 64,
   "metadata": {
    "scrolled": false
   },
   "outputs": [
    {
     "data": {
      "text/html": [
       "<div>\n",
       "<style scoped>\n",
       "    .dataframe tbody tr th:only-of-type {\n",
       "        vertical-align: middle;\n",
       "    }\n",
       "\n",
       "    .dataframe tbody tr th {\n",
       "        vertical-align: top;\n",
       "    }\n",
       "\n",
       "    .dataframe thead th {\n",
       "        text-align: right;\n",
       "    }\n",
       "</style>\n",
       "<table border=\"1\" class=\"dataframe\">\n",
       "  <thead>\n",
       "    <tr style=\"text-align: right;\">\n",
       "      <th></th>\n",
       "      <th>a</th>\n",
       "      <th>b</th>\n",
       "      <th>c</th>\n",
       "      <th>d</th>\n",
       "      <th>e</th>\n",
       "      <th>f</th>\n",
       "      <th>g</th>\n",
       "      <th>h</th>\n",
       "      <th>i</th>\n",
       "      <th>j</th>\n",
       "      <th>...</th>\n",
       "      <th>s</th>\n",
       "      <th>t</th>\n",
       "      <th>u</th>\n",
       "      <th>v</th>\n",
       "      <th>w</th>\n",
       "      <th>x</th>\n",
       "      <th>y</th>\n",
       "      <th>z</th>\n",
       "      <th>word</th>\n",
       "      <th>language</th>\n",
       "    </tr>\n",
       "  </thead>\n",
       "  <tbody>\n",
       "    <tr>\n",
       "      <th>16857</th>\n",
       "      <td>0</td>\n",
       "      <td>0</td>\n",
       "      <td>0</td>\n",
       "      <td>0</td>\n",
       "      <td>2</td>\n",
       "      <td>1</td>\n",
       "      <td>0</td>\n",
       "      <td>0</td>\n",
       "      <td>0</td>\n",
       "      <td>0</td>\n",
       "      <td>...</td>\n",
       "      <td>0</td>\n",
       "      <td>1</td>\n",
       "      <td>0</td>\n",
       "      <td>0</td>\n",
       "      <td>0</td>\n",
       "      <td>0</td>\n",
       "      <td>0</td>\n",
       "      <td>0</td>\n",
       "      <td>trefle</td>\n",
       "      <td>eng</td>\n",
       "    </tr>\n",
       "    <tr>\n",
       "      <th>2149</th>\n",
       "      <td>1</td>\n",
       "      <td>1</td>\n",
       "      <td>0</td>\n",
       "      <td>0</td>\n",
       "      <td>1</td>\n",
       "      <td>0</td>\n",
       "      <td>0</td>\n",
       "      <td>0</td>\n",
       "      <td>1</td>\n",
       "      <td>0</td>\n",
       "      <td>...</td>\n",
       "      <td>0</td>\n",
       "      <td>0</td>\n",
       "      <td>0</td>\n",
       "      <td>0</td>\n",
       "      <td>0</td>\n",
       "      <td>0</td>\n",
       "      <td>0</td>\n",
       "      <td>0</td>\n",
       "      <td>beira</td>\n",
       "      <td>eng</td>\n",
       "    </tr>\n",
       "    <tr>\n",
       "      <th>22259</th>\n",
       "      <td>0</td>\n",
       "      <td>0</td>\n",
       "      <td>0</td>\n",
       "      <td>0</td>\n",
       "      <td>2</td>\n",
       "      <td>0</td>\n",
       "      <td>0</td>\n",
       "      <td>0</td>\n",
       "      <td>1</td>\n",
       "      <td>0</td>\n",
       "      <td>...</td>\n",
       "      <td>1</td>\n",
       "      <td>0</td>\n",
       "      <td>0</td>\n",
       "      <td>0</td>\n",
       "      <td>0</td>\n",
       "      <td>0</td>\n",
       "      <td>0</td>\n",
       "      <td>0</td>\n",
       "      <td>esirme</td>\n",
       "      <td>tr</td>\n",
       "    </tr>\n",
       "    <tr>\n",
       "      <th>10433</th>\n",
       "      <td>0</td>\n",
       "      <td>0</td>\n",
       "      <td>0</td>\n",
       "      <td>0</td>\n",
       "      <td>1</td>\n",
       "      <td>0</td>\n",
       "      <td>0</td>\n",
       "      <td>0</td>\n",
       "      <td>1</td>\n",
       "      <td>0</td>\n",
       "      <td>...</td>\n",
       "      <td>0</td>\n",
       "      <td>2</td>\n",
       "      <td>1</td>\n",
       "      <td>0</td>\n",
       "      <td>0</td>\n",
       "      <td>0</td>\n",
       "      <td>0</td>\n",
       "      <td>0</td>\n",
       "      <td>urtite</td>\n",
       "      <td>eng</td>\n",
       "    </tr>\n",
       "    <tr>\n",
       "      <th>14425</th>\n",
       "      <td>1</td>\n",
       "      <td>0</td>\n",
       "      <td>0</td>\n",
       "      <td>1</td>\n",
       "      <td>0</td>\n",
       "      <td>0</td>\n",
       "      <td>0</td>\n",
       "      <td>0</td>\n",
       "      <td>0</td>\n",
       "      <td>0</td>\n",
       "      <td>...</td>\n",
       "      <td>0</td>\n",
       "      <td>1</td>\n",
       "      <td>0</td>\n",
       "      <td>0</td>\n",
       "      <td>0</td>\n",
       "      <td>0</td>\n",
       "      <td>0</td>\n",
       "      <td>0</td>\n",
       "      <td>drant</td>\n",
       "      <td>eng</td>\n",
       "    </tr>\n",
       "    <tr>\n",
       "      <th>16437</th>\n",
       "      <td>3</td>\n",
       "      <td>0</td>\n",
       "      <td>0</td>\n",
       "      <td>0</td>\n",
       "      <td>0</td>\n",
       "      <td>0</td>\n",
       "      <td>0</td>\n",
       "      <td>0</td>\n",
       "      <td>0</td>\n",
       "      <td>0</td>\n",
       "      <td>...</td>\n",
       "      <td>1</td>\n",
       "      <td>1</td>\n",
       "      <td>0</td>\n",
       "      <td>0</td>\n",
       "      <td>0</td>\n",
       "      <td>0</td>\n",
       "      <td>0</td>\n",
       "      <td>0</td>\n",
       "      <td>satara</td>\n",
       "      <td>eng</td>\n",
       "    </tr>\n",
       "    <tr>\n",
       "      <th>23668</th>\n",
       "      <td>1</td>\n",
       "      <td>0</td>\n",
       "      <td>0</td>\n",
       "      <td>0</td>\n",
       "      <td>0</td>\n",
       "      <td>0</td>\n",
       "      <td>0</td>\n",
       "      <td>0</td>\n",
       "      <td>1</td>\n",
       "      <td>0</td>\n",
       "      <td>...</td>\n",
       "      <td>0</td>\n",
       "      <td>1</td>\n",
       "      <td>0</td>\n",
       "      <td>0</td>\n",
       "      <td>0</td>\n",
       "      <td>0</td>\n",
       "      <td>0</td>\n",
       "      <td>0</td>\n",
       "      <td>nakit</td>\n",
       "      <td>tr</td>\n",
       "    </tr>\n",
       "    <tr>\n",
       "      <th>12168</th>\n",
       "      <td>1</td>\n",
       "      <td>0</td>\n",
       "      <td>0</td>\n",
       "      <td>0</td>\n",
       "      <td>0</td>\n",
       "      <td>0</td>\n",
       "      <td>1</td>\n",
       "      <td>0</td>\n",
       "      <td>0</td>\n",
       "      <td>0</td>\n",
       "      <td>...</td>\n",
       "      <td>0</td>\n",
       "      <td>0</td>\n",
       "      <td>0</td>\n",
       "      <td>0</td>\n",
       "      <td>0</td>\n",
       "      <td>0</td>\n",
       "      <td>0</td>\n",
       "      <td>0</td>\n",
       "      <td>gnar</td>\n",
       "      <td>eng</td>\n",
       "    </tr>\n",
       "    <tr>\n",
       "      <th>19888</th>\n",
       "      <td>0</td>\n",
       "      <td>0</td>\n",
       "      <td>0</td>\n",
       "      <td>0</td>\n",
       "      <td>1</td>\n",
       "      <td>0</td>\n",
       "      <td>0</td>\n",
       "      <td>1</td>\n",
       "      <td>2</td>\n",
       "      <td>0</td>\n",
       "      <td>...</td>\n",
       "      <td>1</td>\n",
       "      <td>1</td>\n",
       "      <td>0</td>\n",
       "      <td>0</td>\n",
       "      <td>0</td>\n",
       "      <td>0</td>\n",
       "      <td>0</td>\n",
       "      <td>0</td>\n",
       "      <td>histie</td>\n",
       "      <td>eng</td>\n",
       "    </tr>\n",
       "    <tr>\n",
       "      <th>10397</th>\n",
       "      <td>0</td>\n",
       "      <td>0</td>\n",
       "      <td>0</td>\n",
       "      <td>0</td>\n",
       "      <td>0</td>\n",
       "      <td>0</td>\n",
       "      <td>0</td>\n",
       "      <td>1</td>\n",
       "      <td>0</td>\n",
       "      <td>0</td>\n",
       "      <td>...</td>\n",
       "      <td>1</td>\n",
       "      <td>0</td>\n",
       "      <td>2</td>\n",
       "      <td>0</td>\n",
       "      <td>0</td>\n",
       "      <td>0</td>\n",
       "      <td>0</td>\n",
       "      <td>0</td>\n",
       "      <td>uprush</td>\n",
       "      <td>eng</td>\n",
       "    </tr>\n",
       "  </tbody>\n",
       "</table>\n",
       "<p>10 rows × 28 columns</p>\n",
       "</div>"
      ],
      "text/plain": [
       "       a  b  c  d  e  f  g  h  i  j  ...  s  t  u  v  w  x  y  z    word  \\\n",
       "16857  0  0  0  0  2  1  0  0  0  0  ...  0  1  0  0  0  0  0  0  trefle   \n",
       "2149   1  1  0  0  1  0  0  0  1  0  ...  0  0  0  0  0  0  0  0   beira   \n",
       "22259  0  0  0  0  2  0  0  0  1  0  ...  1  0  0  0  0  0  0  0  esirme   \n",
       "10433  0  0  0  0  1  0  0  0  1  0  ...  0  2  1  0  0  0  0  0  urtite   \n",
       "14425  1  0  0  1  0  0  0  0  0  0  ...  0  1  0  0  0  0  0  0   drant   \n",
       "16437  3  0  0  0  0  0  0  0  0  0  ...  1  1  0  0  0  0  0  0  satara   \n",
       "23668  1  0  0  0  0  0  0  0  1  0  ...  0  1  0  0  0  0  0  0   nakit   \n",
       "12168  1  0  0  0  0  0  1  0  0  0  ...  0  0  0  0  0  0  0  0    gnar   \n",
       "19888  0  0  0  0  1  0  0  1  2  0  ...  1  1  0  0  0  0  0  0  histie   \n",
       "10397  0  0  0  0  0  0  0  1  0  0  ...  1  0  2  0  0  0  0  0  uprush   \n",
       "\n",
       "       language  \n",
       "16857       eng  \n",
       "2149        eng  \n",
       "22259        tr  \n",
       "10433       eng  \n",
       "14425       eng  \n",
       "16437       eng  \n",
       "23668        tr  \n",
       "12168       eng  \n",
       "19888       eng  \n",
       "10397       eng  \n",
       "\n",
       "[10 rows x 28 columns]"
      ]
     },
     "execution_count": 64,
     "metadata": {},
     "output_type": "execute_result"
    }
   ],
   "source": [
    "df_one_hot_letters.sample(10)"
   ]
  },
  {
   "cell_type": "markdown",
   "metadata": {},
   "source": [
    "- Merging manually created features with one-hot-letter features"
   ]
  },
  {
   "cell_type": "code",
   "execution_count": 20,
   "metadata": {},
   "outputs": [],
   "source": [
    "df_final = df_features_dummy.merge(df_one_hot_letters, left_index = True, right_index = True)"
   ]
  },
  {
   "cell_type": "markdown",
   "metadata": {},
   "source": [
    "- I want to see the results without onehotencoded letters, too"
   ]
  },
  {
   "cell_type": "code",
   "execution_count": 21,
   "metadata": {},
   "outputs": [],
   "source": [
    "#df_features_dummy['word'] = df['word']\n",
    "#df_features_dummy['language'] = df['language']\n",
    "#df_final = df_features_dummy"
   ]
  },
  {
   "cell_type": "code",
   "execution_count": 22,
   "metadata": {
    "scrolled": false
   },
   "outputs": [
    {
     "data": {
      "text/html": [
       "<div>\n",
       "<style scoped>\n",
       "    .dataframe tbody tr th:only-of-type {\n",
       "        vertical-align: middle;\n",
       "    }\n",
       "\n",
       "    .dataframe tbody tr th {\n",
       "        vertical-align: top;\n",
       "    }\n",
       "\n",
       "    .dataframe thead th {\n",
       "        text-align: right;\n",
       "    }\n",
       "</style>\n",
       "<table border=\"1\" class=\"dataframe\">\n",
       "  <thead>\n",
       "    <tr style=\"text-align: right;\">\n",
       "      <th></th>\n",
       "      <th>length</th>\n",
       "      <th>vowels_consonants_ratio</th>\n",
       "      <th>number_of_consecutive_vowel_islands</th>\n",
       "      <th>number_of_consecutive_consonant_islands</th>\n",
       "      <th>max_of_consecutive_vowel_islands</th>\n",
       "      <th>max_of_consecutive_consonant_islands</th>\n",
       "      <th>number_of_unique_letters</th>\n",
       "      <th>number_of_unique_letters_over_len_word</th>\n",
       "      <th>contains_qwx_letters</th>\n",
       "      <th>number_of_vowel_consonant_switches</th>\n",
       "      <th>...</th>\n",
       "      <th>s</th>\n",
       "      <th>t</th>\n",
       "      <th>u</th>\n",
       "      <th>v</th>\n",
       "      <th>w</th>\n",
       "      <th>x</th>\n",
       "      <th>y</th>\n",
       "      <th>z</th>\n",
       "      <th>word</th>\n",
       "      <th>language</th>\n",
       "    </tr>\n",
       "  </thead>\n",
       "  <tbody>\n",
       "    <tr>\n",
       "      <th>0</th>\n",
       "      <td>6</td>\n",
       "      <td>0.166667</td>\n",
       "      <td>0</td>\n",
       "      <td>2</td>\n",
       "      <td>0</td>\n",
       "      <td>3</td>\n",
       "      <td>6</td>\n",
       "      <td>1.000000</td>\n",
       "      <td>False</td>\n",
       "      <td>0.333333</td>\n",
       "      <td>...</td>\n",
       "      <td>0</td>\n",
       "      <td>0</td>\n",
       "      <td>0</td>\n",
       "      <td>0</td>\n",
       "      <td>0</td>\n",
       "      <td>0</td>\n",
       "      <td>1</td>\n",
       "      <td>0</td>\n",
       "      <td>flying</td>\n",
       "      <td>eng</td>\n",
       "    </tr>\n",
       "    <tr>\n",
       "      <th>1</th>\n",
       "      <td>6</td>\n",
       "      <td>0.333333</td>\n",
       "      <td>0</td>\n",
       "      <td>1</td>\n",
       "      <td>0</td>\n",
       "      <td>2</td>\n",
       "      <td>5</td>\n",
       "      <td>0.833333</td>\n",
       "      <td>False</td>\n",
       "      <td>0.666667</td>\n",
       "      <td>...</td>\n",
       "      <td>0</td>\n",
       "      <td>1</td>\n",
       "      <td>0</td>\n",
       "      <td>0</td>\n",
       "      <td>0</td>\n",
       "      <td>0</td>\n",
       "      <td>0</td>\n",
       "      <td>0</td>\n",
       "      <td>fillet</td>\n",
       "      <td>eng</td>\n",
       "    </tr>\n",
       "    <tr>\n",
       "      <th>2</th>\n",
       "      <td>6</td>\n",
       "      <td>0.500000</td>\n",
       "      <td>1</td>\n",
       "      <td>1</td>\n",
       "      <td>2</td>\n",
       "      <td>2</td>\n",
       "      <td>6</td>\n",
       "      <td>1.000000</td>\n",
       "      <td>False</td>\n",
       "      <td>0.500000</td>\n",
       "      <td>...</td>\n",
       "      <td>0</td>\n",
       "      <td>0</td>\n",
       "      <td>0</td>\n",
       "      <td>0</td>\n",
       "      <td>0</td>\n",
       "      <td>0</td>\n",
       "      <td>0</td>\n",
       "      <td>0</td>\n",
       "      <td>fiance</td>\n",
       "      <td>eng</td>\n",
       "    </tr>\n",
       "    <tr>\n",
       "      <th>3</th>\n",
       "      <td>6</td>\n",
       "      <td>0.500000</td>\n",
       "      <td>1</td>\n",
       "      <td>0</td>\n",
       "      <td>2</td>\n",
       "      <td>0</td>\n",
       "      <td>6</td>\n",
       "      <td>1.000000</td>\n",
       "      <td>False</td>\n",
       "      <td>0.666667</td>\n",
       "      <td>...</td>\n",
       "      <td>0</td>\n",
       "      <td>0</td>\n",
       "      <td>0</td>\n",
       "      <td>0</td>\n",
       "      <td>0</td>\n",
       "      <td>0</td>\n",
       "      <td>0</td>\n",
       "      <td>0</td>\n",
       "      <td>failed</td>\n",
       "      <td>eng</td>\n",
       "    </tr>\n",
       "    <tr>\n",
       "      <th>4</th>\n",
       "      <td>6</td>\n",
       "      <td>0.333333</td>\n",
       "      <td>0</td>\n",
       "      <td>1</td>\n",
       "      <td>0</td>\n",
       "      <td>2</td>\n",
       "      <td>5</td>\n",
       "      <td>0.833333</td>\n",
       "      <td>False</td>\n",
       "      <td>0.666667</td>\n",
       "      <td>...</td>\n",
       "      <td>1</td>\n",
       "      <td>0</td>\n",
       "      <td>0</td>\n",
       "      <td>0</td>\n",
       "      <td>0</td>\n",
       "      <td>0</td>\n",
       "      <td>0</td>\n",
       "      <td>0</td>\n",
       "      <td>fanons</td>\n",
       "      <td>eng</td>\n",
       "    </tr>\n",
       "    <tr>\n",
       "      <th>...</th>\n",
       "      <td>...</td>\n",
       "      <td>...</td>\n",
       "      <td>...</td>\n",
       "      <td>...</td>\n",
       "      <td>...</td>\n",
       "      <td>...</td>\n",
       "      <td>...</td>\n",
       "      <td>...</td>\n",
       "      <td>...</td>\n",
       "      <td>...</td>\n",
       "      <td>...</td>\n",
       "      <td>...</td>\n",
       "      <td>...</td>\n",
       "      <td>...</td>\n",
       "      <td>...</td>\n",
       "      <td>...</td>\n",
       "      <td>...</td>\n",
       "      <td>...</td>\n",
       "      <td>...</td>\n",
       "      <td>...</td>\n",
       "      <td>...</td>\n",
       "    </tr>\n",
       "    <tr>\n",
       "      <th>23902</th>\n",
       "      <td>2</td>\n",
       "      <td>0.500000</td>\n",
       "      <td>0</td>\n",
       "      <td>0</td>\n",
       "      <td>0</td>\n",
       "      <td>0</td>\n",
       "      <td>2</td>\n",
       "      <td>1.000000</td>\n",
       "      <td>False</td>\n",
       "      <td>0.500000</td>\n",
       "      <td>...</td>\n",
       "      <td>0</td>\n",
       "      <td>0</td>\n",
       "      <td>0</td>\n",
       "      <td>0</td>\n",
       "      <td>0</td>\n",
       "      <td>0</td>\n",
       "      <td>0</td>\n",
       "      <td>1</td>\n",
       "      <td>oz</td>\n",
       "      <td>tr</td>\n",
       "    </tr>\n",
       "    <tr>\n",
       "      <th>23903</th>\n",
       "      <td>3</td>\n",
       "      <td>0.333333</td>\n",
       "      <td>0</td>\n",
       "      <td>0</td>\n",
       "      <td>0</td>\n",
       "      <td>0</td>\n",
       "      <td>3</td>\n",
       "      <td>1.000000</td>\n",
       "      <td>False</td>\n",
       "      <td>0.666667</td>\n",
       "      <td>...</td>\n",
       "      <td>1</td>\n",
       "      <td>0</td>\n",
       "      <td>0</td>\n",
       "      <td>0</td>\n",
       "      <td>0</td>\n",
       "      <td>0</td>\n",
       "      <td>0</td>\n",
       "      <td>1</td>\n",
       "      <td>soz</td>\n",
       "      <td>tr</td>\n",
       "    </tr>\n",
       "    <tr>\n",
       "      <th>23904</th>\n",
       "      <td>2</td>\n",
       "      <td>0.500000</td>\n",
       "      <td>0</td>\n",
       "      <td>0</td>\n",
       "      <td>0</td>\n",
       "      <td>0</td>\n",
       "      <td>2</td>\n",
       "      <td>1.000000</td>\n",
       "      <td>False</td>\n",
       "      <td>0.500000</td>\n",
       "      <td>...</td>\n",
       "      <td>0</td>\n",
       "      <td>0</td>\n",
       "      <td>1</td>\n",
       "      <td>0</td>\n",
       "      <td>0</td>\n",
       "      <td>0</td>\n",
       "      <td>0</td>\n",
       "      <td>0</td>\n",
       "      <td>uc</td>\n",
       "      <td>tr</td>\n",
       "    </tr>\n",
       "    <tr>\n",
       "      <th>23905</th>\n",
       "      <td>4</td>\n",
       "      <td>0.500000</td>\n",
       "      <td>0</td>\n",
       "      <td>0</td>\n",
       "      <td>0</td>\n",
       "      <td>0</td>\n",
       "      <td>3</td>\n",
       "      <td>0.750000</td>\n",
       "      <td>False</td>\n",
       "      <td>0.750000</td>\n",
       "      <td>...</td>\n",
       "      <td>0</td>\n",
       "      <td>0</td>\n",
       "      <td>0</td>\n",
       "      <td>0</td>\n",
       "      <td>0</td>\n",
       "      <td>0</td>\n",
       "      <td>1</td>\n",
       "      <td>0</td>\n",
       "      <td>yaka</td>\n",
       "      <td>tr</td>\n",
       "    </tr>\n",
       "    <tr>\n",
       "      <th>23906</th>\n",
       "      <td>3</td>\n",
       "      <td>0.333333</td>\n",
       "      <td>0</td>\n",
       "      <td>0</td>\n",
       "      <td>0</td>\n",
       "      <td>0</td>\n",
       "      <td>3</td>\n",
       "      <td>1.000000</td>\n",
       "      <td>False</td>\n",
       "      <td>0.666667</td>\n",
       "      <td>...</td>\n",
       "      <td>0</td>\n",
       "      <td>0</td>\n",
       "      <td>0</td>\n",
       "      <td>0</td>\n",
       "      <td>0</td>\n",
       "      <td>0</td>\n",
       "      <td>1</td>\n",
       "      <td>0</td>\n",
       "      <td>yem</td>\n",
       "      <td>tr</td>\n",
       "    </tr>\n",
       "  </tbody>\n",
       "</table>\n",
       "<p>23907 rows × 121 columns</p>\n",
       "</div>"
      ],
      "text/plain": [
       "       length  vowels_consonants_ratio  number_of_consecutive_vowel_islands  \\\n",
       "0           6                 0.166667                                    0   \n",
       "1           6                 0.333333                                    0   \n",
       "2           6                 0.500000                                    1   \n",
       "3           6                 0.500000                                    1   \n",
       "4           6                 0.333333                                    0   \n",
       "...       ...                      ...                                  ...   \n",
       "23902       2                 0.500000                                    0   \n",
       "23903       3                 0.333333                                    0   \n",
       "23904       2                 0.500000                                    0   \n",
       "23905       4                 0.500000                                    0   \n",
       "23906       3                 0.333333                                    0   \n",
       "\n",
       "       number_of_consecutive_consonant_islands  \\\n",
       "0                                            2   \n",
       "1                                            1   \n",
       "2                                            1   \n",
       "3                                            0   \n",
       "4                                            1   \n",
       "...                                        ...   \n",
       "23902                                        0   \n",
       "23903                                        0   \n",
       "23904                                        0   \n",
       "23905                                        0   \n",
       "23906                                        0   \n",
       "\n",
       "       max_of_consecutive_vowel_islands  max_of_consecutive_consonant_islands  \\\n",
       "0                                     0                                     3   \n",
       "1                                     0                                     2   \n",
       "2                                     2                                     2   \n",
       "3                                     2                                     0   \n",
       "4                                     0                                     2   \n",
       "...                                 ...                                   ...   \n",
       "23902                                 0                                     0   \n",
       "23903                                 0                                     0   \n",
       "23904                                 0                                     0   \n",
       "23905                                 0                                     0   \n",
       "23906                                 0                                     0   \n",
       "\n",
       "       number_of_unique_letters  number_of_unique_letters_over_len_word  \\\n",
       "0                             6                                1.000000   \n",
       "1                             5                                0.833333   \n",
       "2                             6                                1.000000   \n",
       "3                             6                                1.000000   \n",
       "4                             5                                0.833333   \n",
       "...                         ...                                     ...   \n",
       "23902                         2                                1.000000   \n",
       "23903                         3                                1.000000   \n",
       "23904                         2                                1.000000   \n",
       "23905                         3                                0.750000   \n",
       "23906                         3                                1.000000   \n",
       "\n",
       "       contains_qwx_letters  number_of_vowel_consonant_switches  ...  s  t  u  \\\n",
       "0                     False                            0.333333  ...  0  0  0   \n",
       "1                     False                            0.666667  ...  0  1  0   \n",
       "2                     False                            0.500000  ...  0  0  0   \n",
       "3                     False                            0.666667  ...  0  0  0   \n",
       "4                     False                            0.666667  ...  1  0  0   \n",
       "...                     ...                                 ...  ... .. .. ..   \n",
       "23902                 False                            0.500000  ...  0  0  0   \n",
       "23903                 False                            0.666667  ...  1  0  0   \n",
       "23904                 False                            0.500000  ...  0  0  1   \n",
       "23905                 False                            0.750000  ...  0  0  0   \n",
       "23906                 False                            0.666667  ...  0  0  0   \n",
       "\n",
       "       v  w  x  y  z    word  language  \n",
       "0      0  0  0  1  0  flying       eng  \n",
       "1      0  0  0  0  0  fillet       eng  \n",
       "2      0  0  0  0  0  fiance       eng  \n",
       "3      0  0  0  0  0  failed       eng  \n",
       "4      0  0  0  0  0  fanons       eng  \n",
       "...   .. .. .. .. ..     ...       ...  \n",
       "23902  0  0  0  0  1      oz        tr  \n",
       "23903  0  0  0  0  1     soz        tr  \n",
       "23904  0  0  0  0  0      uc        tr  \n",
       "23905  0  0  0  1  0    yaka        tr  \n",
       "23906  0  0  0  1  0     yem        tr  \n",
       "\n",
       "[23907 rows x 121 columns]"
      ]
     },
     "execution_count": 22,
     "metadata": {},
     "output_type": "execute_result"
    }
   ],
   "source": [
    "df_final"
   ]
  },
  {
   "cell_type": "markdown",
   "metadata": {},
   "source": [
    "- Manual/Eye inspection shows that features are matched correctly with the words, meaning there is no index shift or anything"
   ]
  },
  {
   "cell_type": "code",
   "execution_count": 23,
   "metadata": {},
   "outputs": [
    {
     "data": {
      "text/plain": [
       "array([dtype('bool'), dtype('uint8'), dtype('int64'), dtype('float64')],\n",
       "      dtype=object)"
      ]
     },
     "execution_count": 23,
     "metadata": {},
     "output_type": "execute_result"
    }
   ],
   "source": [
    "np.unique(df_final.drop(['word', 'language'], axis = 1).dtypes)"
   ]
  },
  {
   "cell_type": "markdown",
   "metadata": {},
   "source": [
    "- Data types are also suitable for scikit-learn's ML algorithms"
   ]
  },
  {
   "cell_type": "markdown",
   "metadata": {
    "scrolled": false
   },
   "source": [
    "### Train/Development and Test Splits"
   ]
  },
  {
   "cell_type": "markdown",
   "metadata": {},
   "source": [
    "- I will divide the data into two parts.\n",
    "    - 1st part will be Train & Development set: 0.75 of the original data. Namely X and y\n",
    "    - 2nd part will be Test set that I will not touch at all until final stage of the process, just like a Kaggle competition. 0.25 of the original data. Namely X_test and y_test\n",
    "    \n",
    "    \n",
    "- Imbalanced data requires metrics such as recall, precision, Fscore. Since it is binary classification, I will simply replace 'tr' and 'eng' with 0 and 1 to make use of these metrics better according to my framework\n",
    "- Since 'tr' is minority, I will replace 'tr' with 1 and 'eng' with 0"
   ]
  },
  {
   "cell_type": "code",
   "execution_count": 26,
   "metadata": {},
   "outputs": [],
   "source": [
    "X = df_final.drop(['word', 'language'], axis = 1)\n",
    "y = df_final['language'].replace('tr', 1).replace('eng', 0).astype(int)"
   ]
  },
  {
   "cell_type": "code",
   "execution_count": 27,
   "metadata": {},
   "outputs": [],
   "source": [
    "from sklearn.model_selection import train_test_split\n",
    "X, X_final_test, y, y_final_test = train_test_split(X, y, test_size = 0.25, random_state = 5)"
   ]
  },
  {
   "cell_type": "code",
   "execution_count": 28,
   "metadata": {
    "scrolled": true
   },
   "outputs": [
    {
     "data": {
      "text/plain": [
       "0    0.905577\n",
       "1    0.094423\n",
       "Name: language, dtype: float64"
      ]
     },
     "execution_count": 28,
     "metadata": {},
     "output_type": "execute_result"
    }
   ],
   "source": [
    "y.value_counts(normalize = True)"
   ]
  },
  {
   "cell_type": "code",
   "execution_count": 29,
   "metadata": {},
   "outputs": [
    {
     "data": {
      "text/plain": [
       "0    0.908315\n",
       "1    0.091685\n",
       "Name: language, dtype: float64"
      ]
     },
     "execution_count": 29,
     "metadata": {},
     "output_type": "execute_result"
    }
   ],
   "source": [
    "y_final_test.value_counts(normalize = True)"
   ]
  },
  {
   "cell_type": "markdown",
   "metadata": {},
   "source": [
    "- OK target variable distribution is roughly the same for both Train/Dev set and Test sets"
   ]
  },
  {
   "cell_type": "markdown",
   "metadata": {},
   "source": [
    "### Machine Learning"
   ]
  },
  {
   "cell_type": "markdown",
   "metadata": {},
   "source": [
    "- We have an imbalanced data, 90% of which is English and rest being Turkish, so I will try SMOTE and SMOTEEN to OverSample the minority class, knowing it's a good practice\n",
    "- Having experience, I know Random Forest, LGBM, XGboost and MLP are good classifiers. So I won't waste cycles over less successfull/outdated methods such as SVM, Logistic Regression, KNN, etc."
   ]
  },
  {
   "cell_type": "code",
   "execution_count": 31,
   "metadata": {},
   "outputs": [],
   "source": [
    "from sklearn.ensemble import RandomForestClassifier\n",
    "from xgboost import XGBClassifier\n",
    "import lightgbm as lgb\n",
    "from sklearn.neural_network import MLPClassifier\n",
    "from sklearn.model_selection import RandomizedSearchCV, StratifiedKFold\n",
    "from sklearn import metrics\n",
    "from sklearn.preprocessing import StandardScaler\n",
    "from sklearn.decomposition import PCA\n",
    "from imblearn.over_sampling import SMOTE\n",
    "from imblearn.combine import SMOTEENN"
   ]
  },
  {
   "cell_type": "code",
   "execution_count": 107,
   "metadata": {},
   "outputs": [
    {
     "data": {
      "text/plain": [
       "dtype('int64')"
      ]
     },
     "execution_count": 107,
     "metadata": {},
     "output_type": "execute_result"
    }
   ],
   "source": [
    "y.dtypes"
   ]
  },
  {
   "cell_type": "markdown",
   "metadata": {},
   "source": [
    "- I will use my 'ML Classification Framework for Imbalanced Data' that I had written for a previous project, which can be found in my github"
   ]
  },
  {
   "cell_type": "code",
   "execution_count": 129,
   "metadata": {},
   "outputs": [],
   "source": [
    "# Classifiers\n",
    "clf_rf = RandomForestClassifier(n_jobs = -1)\n",
    "clf_xgb = XGBClassifier(n_jobs = -1, probability = True)\n",
    "clf_lgbm = lgb.LGBMClassifier(n_jobs = -1,silent = True)\n",
    "clf_mlp = MLPClassifier(max_iter = 500) # it did not converge for 200 iterations"
   ]
  },
  {
   "cell_type": "markdown",
   "metadata": {},
   "source": [
    "- To prevent overfitting, X and y will be created again without Scaling and SMOTE otherwise Overfit and Data Leak will occur\n",
    "- To make sure no overfitting happens but still be able to use Scaling and SMOTE, these two transformation will be applied only after Train/Test split in each of 5-fold CV"
   ]
  },
  {
   "cell_type": "code",
   "execution_count": 131,
   "metadata": {},
   "outputs": [],
   "source": [
    "classifiers = [clf_rf, clf_xgb, clf_lgbm, clf_mlp]\n",
    "clf_list=[]\n",
    "for clf in classifiers:\n",
    "    clf_list.append(clf.__class__.__name__)\n",
    "    \n",
    "my_metrics = ['Accuracy_dict','BalancedAccuracy_dict', 'Recall_dict', \n",
    "              'Precision_dict', 'Fscore_dict']\n",
    "scaler = StandardScaler()\n",
    "\n",
    "skf = StratifiedKFold(n_splits = 5, random_state = None, shuffle = False)\n",
    "Accuracy_dict = {}\n",
    "BalancedAccuracy_dict = {}\n",
    "Recall_dict = {}\n",
    "Precision_dict = {}\n",
    "Fscore_dict = {}\n",
    "clf_list=[]\n",
    "conf_rf = np.zeros([2,2])\n",
    "conf_xgb = np.zeros([2,2])\n",
    "conf_lgbm = np.zeros([2,2])\n",
    "conf_mlp = np.zeros([2,2])\n",
    "conf_eclf = np.zeros([2,2])\n",
    "\n",
    "pred_dict = pd.DataFrame(columns = clf_list)\n",
    "\n",
    "for clf in classifiers:\n",
    "    clf_list.append(clf.__class__.__name__)\n",
    "\n",
    "stacked_results = pd.DataFrame()\n",
    "stacked_probabilities = pd.DataFrame()\n",
    "final_ensembled_metrics = pd.Series(np.zeros([1,len(my_metrics)])[0])\n",
    "final_probs = pd.DataFrame()\n",
    "aggregated_y_test = []\n",
    "for train_index, test_index in skf.split(X, y):\n",
    "    X_train, X_test = X.iloc[train_index], X.iloc[test_index]\n",
    "    y_train, y_test = y.iloc[train_index], y.iloc[test_index]\n",
    "\n",
    "    \n",
    "    # -----  Carrying out Scaling and OverSampling after Train Test split prevents overfitting/Data Leak\n",
    "    # Scaling\n",
    "    #scaler.fit(X_train)\n",
    "    #X_train = scaler.transform(X_train)\n",
    "    #X_test = scaler.transform(X_test)\n",
    "\n",
    "    # PCA\n",
    "    #pca = PCA(n_components = n_of_components)\n",
    "    #pca.fit(X_train)\n",
    "    #X_train = pca.transform(X_train)\n",
    "    #X_test = pca.transform(X_test)\n",
    "\n",
    "    # Sampling\n",
    "    # SMOTE\n",
    "    #sampler = SMOTE(sampling_strategy = 'minority') # Synthetic Minority Over Sampling Technique\n",
    "    #X_train, y_train = sampler.fit_sample(X_train, y_train)\n",
    "    \n",
    "    # SMOTEENN\n",
    "    sampler = SMOTEENN(random_state=42)\n",
    "    X_train, y_train = sampler.fit_sample(X_train, y_train)\n",
    "\n",
    "    a = pd.DataFrame()\n",
    "    b = pd.DataFrame()\n",
    "    for clf in classifiers:\n",
    "        name = clf.__class__.__name__\n",
    "        clf.fit(X_train, y_train)\n",
    "        train_predictions = pd.Series(clf.predict(X_test))\n",
    "        train_probabilities = pd.Series(clf.predict_proba(X_test)[:,1])\n",
    "        Accuracy = metrics.accuracy_score(y_test, train_predictions)\n",
    "        BalancedAccuracy = metrics.balanced_accuracy_score(y_test, train_predictions)\n",
    "        Recall = metrics.recall_score(y_test, train_predictions)\n",
    "        Precision = metrics.precision_score(y_test, train_predictions)\n",
    "        Fscore = metrics.f1_score(y_test, train_predictions)\n",
    "\n",
    "        if clf == clf_rf:\n",
    "            conf_rf += metrics.confusion_matrix(y_test, train_predictions)\n",
    "        if clf == clf_xgb:\n",
    "            conf_xgb += metrics.confusion_matrix(y_test, train_predictions)\n",
    "        if clf == clf_lgbm:\n",
    "            conf_lgbm += metrics.confusion_matrix(y_test, train_predictions)\n",
    "        if clf == clf_mlp:\n",
    "            conf_mlp += metrics.confusion_matrix(y_test, train_predictions)\n",
    "\n",
    "\n",
    "        for x in my_metrics:\n",
    "            if name in eval(x):\n",
    "                eval(x)[name] += eval(x.split(\"_\")[0])\n",
    "            else:\n",
    "                eval(x)[name] = eval(x.split(\"_\")[0])\n",
    "        a = pd.concat([a, train_predictions], axis=1)\n",
    "        b = pd.concat([b, train_probabilities], axis=1)\n",
    "    \n",
    "    probs = pd.DataFrame(b.mean(axis=1))\n",
    "    \n",
    "    final_probs = pd.concat([final_probs, b], axis = 0)\n",
    "    aggregated_y_test = np.concatenate((aggregated_y_test, y_test.values))\n",
    "    probs[probs[0] < 0.5] = 0\n",
    "    probs[probs[0] >= 0.5] = 1\n",
    "    ensembled_preds = probs\n",
    "    conf_eclf += metrics.confusion_matrix(y_test, ensembled_preds)\n",
    "    ensembled_metrics = []\n",
    "    ensembled_metrics.append(metrics.accuracy_score(y_test, ensembled_preds))\n",
    "    ensembled_metrics.append(metrics.balanced_accuracy_score(y_test, ensembled_preds))\n",
    "    ensembled_metrics.append(metrics.recall_score(y_test, ensembled_preds))\n",
    "    ensembled_metrics.append(metrics.precision_score(y_test, ensembled_preds))\n",
    "    ensembled_metrics.append(metrics.f1_score(y_test, ensembled_preds))\n",
    "    final_ensembled_metrics += pd.Series(ensembled_metrics)\n",
    "\n",
    "    stacked_results = pd.concat([stacked_results,a], axis = 0)\n",
    "stacked_results.columns = clf_list\n",
    "\n",
    "final_probs['GT'] = aggregated_y_test\n",
    "clf_list.append('GT')\n",
    "final_probs.columns = clf_list\n",
    "final_probs = final_probs.round(2)\n",
    "\n",
    "metric_results = pd.DataFrame()\n",
    "for x in my_metrics:\n",
    "    metric_results = metric_results.append(pd.DataFrame(\n",
    "        data = [list((eval(x).values()))] , columns = list((eval(x).keys()))))\n",
    "metric_results.index = [\"Accuracy\", \"Bal_Accuracy\", \"Recall\", \"Precision\", \"Fscore\"]\n",
    "metric_results['EnsembledClassifiers'] = list(final_ensembled_metrics)\n",
    "metric_results = metric_results.T/5"
   ]
  },
  {
   "cell_type": "markdown",
   "metadata": {},
   "source": [
    "### Evaluation Metrics"
   ]
  },
  {
   "cell_type": "markdown",
   "metadata": {},
   "source": [
    "- The metrics I will inspect are: Accuracy, Balanced Accuracy, Recall, Precision and Fscore\n",
    "- After Model Selection, I will:\n",
    "    - Tune HyperParameters via GridSearch.\n",
    "    - Inspect ROC/AUC curve to tune the model even further.\n",
    "    - Tune probability threshold for predictions\n",
    "    - Inspect Feature Importances"
   ]
  },
  {
   "cell_type": "markdown",
   "metadata": {},
   "source": [
    "- Results of Base Models: StandardScaler and SMOTE"
   ]
  },
  {
   "cell_type": "code",
   "execution_count": 116,
   "metadata": {},
   "outputs": [
    {
     "data": {
      "text/html": [
       "<div>\n",
       "<style scoped>\n",
       "    .dataframe tbody tr th:only-of-type {\n",
       "        vertical-align: middle;\n",
       "    }\n",
       "\n",
       "    .dataframe tbody tr th {\n",
       "        vertical-align: top;\n",
       "    }\n",
       "\n",
       "    .dataframe thead th {\n",
       "        text-align: right;\n",
       "    }\n",
       "</style>\n",
       "<table border=\"1\" class=\"dataframe\">\n",
       "  <thead>\n",
       "    <tr style=\"text-align: right;\">\n",
       "      <th></th>\n",
       "      <th>Accuracy</th>\n",
       "      <th>Bal_Accuracy</th>\n",
       "      <th>Recall</th>\n",
       "      <th>Precision</th>\n",
       "      <th>Fscore</th>\n",
       "    </tr>\n",
       "  </thead>\n",
       "  <tbody>\n",
       "    <tr>\n",
       "      <th>RandomForestClassifier</th>\n",
       "      <td>0.907418</td>\n",
       "      <td>0.602862</td>\n",
       "      <td>0.227402</td>\n",
       "      <td>0.522454</td>\n",
       "      <td>0.316805</td>\n",
       "    </tr>\n",
       "    <tr>\n",
       "      <th>XGBClassifier</th>\n",
       "      <td>0.913107</td>\n",
       "      <td>0.625575</td>\n",
       "      <td>0.271104</td>\n",
       "      <td>0.586676</td>\n",
       "      <td>0.370551</td>\n",
       "    </tr>\n",
       "    <tr>\n",
       "      <th>LGBMClassifier</th>\n",
       "      <td>0.914501</td>\n",
       "      <td>0.620796</td>\n",
       "      <td>0.258713</td>\n",
       "      <td>0.611725</td>\n",
       "      <td>0.363044</td>\n",
       "    </tr>\n",
       "    <tr>\n",
       "      <th>MLPClassifier</th>\n",
       "      <td>0.876520</td>\n",
       "      <td>0.636849</td>\n",
       "      <td>0.341383</td>\n",
       "      <td>0.344596</td>\n",
       "      <td>0.342923</td>\n",
       "    </tr>\n",
       "    <tr>\n",
       "      <th>EnsembledClassifiers</th>\n",
       "      <td>0.908756</td>\n",
       "      <td>0.629517</td>\n",
       "      <td>0.285272</td>\n",
       "      <td>0.531658</td>\n",
       "      <td>0.370926</td>\n",
       "    </tr>\n",
       "  </tbody>\n",
       "</table>\n",
       "</div>"
      ],
      "text/plain": [
       "                        Accuracy  Bal_Accuracy    Recall  Precision    Fscore\n",
       "RandomForestClassifier  0.907418      0.602862  0.227402   0.522454  0.316805\n",
       "XGBClassifier           0.913107      0.625575  0.271104   0.586676  0.370551\n",
       "LGBMClassifier          0.914501      0.620796  0.258713   0.611725  0.363044\n",
       "MLPClassifier           0.876520      0.636849  0.341383   0.344596  0.342923\n",
       "EnsembledClassifiers    0.908756      0.629517  0.285272   0.531658  0.370926"
      ]
     },
     "execution_count": 116,
     "metadata": {},
     "output_type": "execute_result"
    }
   ],
   "source": [
    "metric_results"
   ]
  },
  {
   "cell_type": "markdown",
   "metadata": {},
   "source": [
    "- Results of Base Models: NO SCALING and SMOTE"
   ]
  },
  {
   "cell_type": "code",
   "execution_count": 118,
   "metadata": {
    "scrolled": true
   },
   "outputs": [
    {
     "data": {
      "text/html": [
       "<div>\n",
       "<style scoped>\n",
       "    .dataframe tbody tr th:only-of-type {\n",
       "        vertical-align: middle;\n",
       "    }\n",
       "\n",
       "    .dataframe tbody tr th {\n",
       "        vertical-align: top;\n",
       "    }\n",
       "\n",
       "    .dataframe thead th {\n",
       "        text-align: right;\n",
       "    }\n",
       "</style>\n",
       "<table border=\"1\" class=\"dataframe\">\n",
       "  <thead>\n",
       "    <tr style=\"text-align: right;\">\n",
       "      <th></th>\n",
       "      <th>Accuracy</th>\n",
       "      <th>Bal_Accuracy</th>\n",
       "      <th>Recall</th>\n",
       "      <th>Precision</th>\n",
       "      <th>Fscore</th>\n",
       "    </tr>\n",
       "  </thead>\n",
       "  <tbody>\n",
       "    <tr>\n",
       "      <th>RandomForestClassifier</th>\n",
       "      <td>0.892359</td>\n",
       "      <td>0.654069</td>\n",
       "      <td>0.360303</td>\n",
       "      <td>0.418354</td>\n",
       "      <td>0.386910</td>\n",
       "    </tr>\n",
       "    <tr>\n",
       "      <th>XGBClassifier</th>\n",
       "      <td>0.902621</td>\n",
       "      <td>0.659207</td>\n",
       "      <td>0.359124</td>\n",
       "      <td>0.480041</td>\n",
       "      <td>0.410602</td>\n",
       "    </tr>\n",
       "    <tr>\n",
       "      <th>LGBMClassifier</th>\n",
       "      <td>0.895650</td>\n",
       "      <td>0.672823</td>\n",
       "      <td>0.398120</td>\n",
       "      <td>0.442343</td>\n",
       "      <td>0.418719</td>\n",
       "    </tr>\n",
       "    <tr>\n",
       "      <th>MLPClassifier</th>\n",
       "      <td>0.890184</td>\n",
       "      <td>0.635671</td>\n",
       "      <td>0.321906</td>\n",
       "      <td>0.399190</td>\n",
       "      <td>0.355177</td>\n",
       "    </tr>\n",
       "    <tr>\n",
       "      <th>EnsembledClassifiers</th>\n",
       "      <td>0.904016</td>\n",
       "      <td>0.649666</td>\n",
       "      <td>0.336100</td>\n",
       "      <td>0.487262</td>\n",
       "      <td>0.397449</td>\n",
       "    </tr>\n",
       "  </tbody>\n",
       "</table>\n",
       "</div>"
      ],
      "text/plain": [
       "                        Accuracy  Bal_Accuracy    Recall  Precision    Fscore\n",
       "RandomForestClassifier  0.892359      0.654069  0.360303   0.418354  0.386910\n",
       "XGBClassifier           0.902621      0.659207  0.359124   0.480041  0.410602\n",
       "LGBMClassifier          0.895650      0.672823  0.398120   0.442343  0.418719\n",
       "MLPClassifier           0.890184      0.635671  0.321906   0.399190  0.355177\n",
       "EnsembledClassifiers    0.904016      0.649666  0.336100   0.487262  0.397449"
      ]
     },
     "execution_count": 118,
     "metadata": {},
     "output_type": "execute_result"
    }
   ],
   "source": [
    "metric_results"
   ]
  },
  {
   "cell_type": "markdown",
   "metadata": {},
   "source": [
    "- Results of Base Models: NO SCALING and SMOTEENN"
   ]
  },
  {
   "cell_type": "code",
   "execution_count": 132,
   "metadata": {},
   "outputs": [
    {
     "data": {
      "text/html": [
       "<div>\n",
       "<style scoped>\n",
       "    .dataframe tbody tr th:only-of-type {\n",
       "        vertical-align: middle;\n",
       "    }\n",
       "\n",
       "    .dataframe tbody tr th {\n",
       "        vertical-align: top;\n",
       "    }\n",
       "\n",
       "    .dataframe thead th {\n",
       "        text-align: right;\n",
       "    }\n",
       "</style>\n",
       "<table border=\"1\" class=\"dataframe\">\n",
       "  <thead>\n",
       "    <tr style=\"text-align: right;\">\n",
       "      <th></th>\n",
       "      <th>Accuracy</th>\n",
       "      <th>Bal_Accuracy</th>\n",
       "      <th>Recall</th>\n",
       "      <th>Precision</th>\n",
       "      <th>Fscore</th>\n",
       "    </tr>\n",
       "  </thead>\n",
       "  <tbody>\n",
       "    <tr>\n",
       "      <th>RandomForestClassifier</th>\n",
       "      <td>0.820413</td>\n",
       "      <td>0.739727</td>\n",
       "      <td>0.640259</td>\n",
       "      <td>0.293393</td>\n",
       "      <td>0.402305</td>\n",
       "    </tr>\n",
       "    <tr>\n",
       "      <th>XGBClassifier</th>\n",
       "      <td>0.839208</td>\n",
       "      <td>0.742702</td>\n",
       "      <td>0.623731</td>\n",
       "      <td>0.320493</td>\n",
       "      <td>0.423153</td>\n",
       "    </tr>\n",
       "    <tr>\n",
       "      <th>LGBMClassifier</th>\n",
       "      <td>0.829782</td>\n",
       "      <td>0.753100</td>\n",
       "      <td>0.658568</td>\n",
       "      <td>0.310944</td>\n",
       "      <td>0.422197</td>\n",
       "    </tr>\n",
       "    <tr>\n",
       "      <th>MLPClassifier</th>\n",
       "      <td>0.836364</td>\n",
       "      <td>0.709643</td>\n",
       "      <td>0.553425</td>\n",
       "      <td>0.301506</td>\n",
       "      <td>0.389404</td>\n",
       "    </tr>\n",
       "    <tr>\n",
       "      <th>EnsembledClassifiers</th>\n",
       "      <td>0.844562</td>\n",
       "      <td>0.745652</td>\n",
       "      <td>0.623718</td>\n",
       "      <td>0.330236</td>\n",
       "      <td>0.431290</td>\n",
       "    </tr>\n",
       "  </tbody>\n",
       "</table>\n",
       "</div>"
      ],
      "text/plain": [
       "                        Accuracy  Bal_Accuracy    Recall  Precision    Fscore\n",
       "RandomForestClassifier  0.820413      0.739727  0.640259   0.293393  0.402305\n",
       "XGBClassifier           0.839208      0.742702  0.623731   0.320493  0.423153\n",
       "LGBMClassifier          0.829782      0.753100  0.658568   0.310944  0.422197\n",
       "MLPClassifier           0.836364      0.709643  0.553425   0.301506  0.389404\n",
       "EnsembledClassifiers    0.844562      0.745652  0.623718   0.330236  0.431290"
      ]
     },
     "execution_count": 132,
     "metadata": {},
     "output_type": "execute_result"
    }
   ],
   "source": [
    "metric_results"
   ]
  },
  {
   "cell_type": "code",
   "execution_count": 122,
   "metadata": {},
   "outputs": [
    {
     "name": "stdout",
     "output_type": "stream",
     "text": [
      "6.0\n",
      "0.0\n"
     ]
    }
   ],
   "source": [
    "print(X.max().max())\n",
    "print(X.min().min())"
   ]
  },
  {
   "cell_type": "markdown",
   "metadata": {},
   "source": [
    "- Oddly, Scaling worsens the model performances, even for MLP\n",
    "    - That can be explained by the fact that most of the features in the data is normalized already, min and max values of all table are shown above\n",
    "    - And many being dummy variables(0 - 1)\n",
    "- SMOTE combined with ENN: SMOTEEN improved the results of SMOTE so I will proceed with SMOTEEN.\n",
    "- Ensembling provides the best score however such computationaly expensive methods are mostly appropriate for Kaggle only.\n",
    "- I won't be using Scaling anymore since:\n",
    "    - It only worsened the scores\n",
    "    - I will use a Tree Based model, XGBoost, where scaling is irrelevant\n",
    "- XGBoost seems to provide the best Fscore and I will continue with XGBoost, tuning its hyperparameters and probability threshold."
   ]
  },
  {
   "cell_type": "markdown",
   "metadata": {},
   "source": [
    "### Model Tuning - HyperParameter Search"
   ]
  },
  {
   "cell_type": "code",
   "execution_count": 133,
   "metadata": {},
   "outputs": [
    {
     "data": {
      "text/plain": [
       "(17930, 119)"
      ]
     },
     "execution_count": 133,
     "metadata": {},
     "output_type": "execute_result"
    }
   ],
   "source": [
    "X.shape"
   ]
  },
  {
   "cell_type": "markdown",
   "metadata": {},
   "source": [
    "- To be able to use SMOTEEN in CV, I have to use PipeLine. Otherwise, applying SMOTEEN transformation before split will cause Data Leakage"
   ]
  },
  {
   "cell_type": "code",
   "execution_count": 139,
   "metadata": {
    "scrolled": true
   },
   "outputs": [
    {
     "name": "stdout",
     "output_type": "stream",
     "text": [
      "Fitting 5 folds for each of 20 candidates, totalling 100 fits\n"
     ]
    },
    {
     "name": "stderr",
     "output_type": "stream",
     "text": [
      "[Parallel(n_jobs=-1)]: Using backend LokyBackend with 64 concurrent workers.\n",
      "[Parallel(n_jobs=-1)]: Done  74 out of 100 | elapsed:  4.7min remaining:  1.7min\n",
      "[Parallel(n_jobs=-1)]: Done 100 out of 100 | elapsed:  5.3min finished\n"
     ]
    },
    {
     "name": "stdout",
     "output_type": "stream",
     "text": [
      "Score:  0.43439222992155824\n",
      "{'xgbclassifier__subsample': 1.0, 'xgbclassifier__min_child_weight': 20, 'xgbclassifier__max_depth': 15, 'xgbclassifier__gamma': 2, 'xgbclassifier__colsample_bytree': 0.5}\n"
     ]
    }
   ],
   "source": [
    "from imblearn.pipeline import make_pipeline, Pipeline\n",
    "\n",
    "smote_enn = sampler = SMOTEENN(random_state = 42)\n",
    "clf = XGBClassifier(n_jobs = -1, probability = True)\n",
    "pipeline = make_pipeline(smote_enn, clf_xgb)\n",
    "#print(pipeline.get_params().keys()) # this is very important to get the keys to parameters in pipeline\n",
    "\n",
    "# XGBoost\n",
    "grid_xgb = {'xgbclassifier__min_child_weight': [1, 3, 5, 7, 10, 12, 15, 20, 25, 30, 40],\n",
    "        'xgbclassifier__gamma': [0.25, 0.5, 0.75, 1, 1.25, 1.5, 1.75, 2, 2.25, 2.5, 3, 4, 5],\n",
    "        'xgbclassifier__subsample': [0.3, 0.5, 0.7, 1.0],\n",
    "        'xgbclassifier__colsample_bytree': [0.3, 0.4, 0.5, 0.6, 0.7, 0.8, 1.0],\n",
    "        'xgbclassifier__max_depth': [3, 5, 9, 15, 20, 25, 30]}\n",
    "\n",
    "xgb_grid_search = RandomizedSearchCV(pipeline, grid_xgb, cv = 5, n_jobs = -1, verbose = 1, scoring = \"f1\", random_state = 0,\n",
    "                                     n_iter = 20)\n",
    "xgb_grid_search.fit(X, y)\n",
    "print(\"Score: \",xgb_grid_search.best_score_)\n",
    "print(xgb_grid_search.best_params_)"
   ]
  },
  {
   "cell_type": "markdown",
   "metadata": {},
   "source": [
    "- By optimizing hyperparameters, it has been possible to increase the F1 score by 2.67 %.\n",
    "- It's time to set these parameters"
   ]
  },
  {
   "cell_type": "code",
   "execution_count": 39,
   "metadata": {},
   "outputs": [],
   "source": [
    "clf = XGBClassifier(n_jobs = -1, probability = True, subsample = 1.0, min_child_weight = 20,\n",
    "                    max_depth = 15, gamma = 2, colsample_bytree = 0.5)"
   ]
  },
  {
   "cell_type": "markdown",
   "metadata": {},
   "source": [
    "### Testing the Tuned Model"
   ]
  },
  {
   "cell_type": "code",
   "execution_count": 42,
   "metadata": {
    "scrolled": false
   },
   "outputs": [
    {
     "name": "stdout",
     "output_type": "stream",
     "text": [
      "CPU times: user 3min 31s, sys: 136 ms, total: 3min 31s\n",
      "Wall time: 3min 31s\n"
     ]
    }
   ],
   "source": [
    "%%time\n",
    "stacked_predictions = pd.Series(dtype = float)\n",
    "stacked_probabilities = pd.Series(dtype = float)\n",
    "stacked_gt = pd.Series(dtype = float)\n",
    "for train_index, test_index in skf.split(X, y):\n",
    "    X_train, X_test = X.iloc[train_index], X.iloc[test_index]\n",
    "    y_train, y_test = y.iloc[train_index], y.iloc[test_index]\n",
    "    \n",
    "    # SMOTEENN\n",
    "    sampler = SMOTEENN(random_state = 42)\n",
    "    X_train, y_train = sampler.fit_sample(X_train, y_train)\n",
    "    \n",
    "    clf.fit(X_train, y_train)\n",
    "    preds = pd.Series(clf.predict(X_test))\n",
    "    probs = pd.Series(clf.predict_proba(X_test)[:,1])\n",
    "\n",
    "    stacked_predictions = pd.concat([stacked_predictions, preds])\n",
    "    stacked_probabilities = pd.concat([stacked_probabilities, probs])\n",
    "    stacked_gt = pd.concat([stacked_gt, y_test])"
   ]
  },
  {
   "cell_type": "code",
   "execution_count": 43,
   "metadata": {
    "scrolled": true
   },
   "outputs": [],
   "source": [
    "accuracy = metrics.accuracy_score(stacked_gt, stacked_predictions)\n",
    "recall = metrics.recall_score(stacked_gt, stacked_predictions)\n",
    "precision = metrics.precision_score(stacked_gt, stacked_predictions)\n",
    "f1 = metrics.f1_score(stacked_gt, stacked_predictions)"
   ]
  },
  {
   "cell_type": "code",
   "execution_count": 44,
   "metadata": {},
   "outputs": [
    {
     "data": {
      "text/html": [
       "<div>\n",
       "<style scoped>\n",
       "    .dataframe tbody tr th:only-of-type {\n",
       "        vertical-align: middle;\n",
       "    }\n",
       "\n",
       "    .dataframe tbody tr th {\n",
       "        vertical-align: top;\n",
       "    }\n",
       "\n",
       "    .dataframe thead th {\n",
       "        text-align: right;\n",
       "    }\n",
       "</style>\n",
       "<table border=\"1\" class=\"dataframe\">\n",
       "  <thead>\n",
       "    <tr style=\"text-align: right;\">\n",
       "      <th></th>\n",
       "      <th>XGBoostClassifier</th>\n",
       "    </tr>\n",
       "  </thead>\n",
       "  <tbody>\n",
       "    <tr>\n",
       "      <th>Accuracy</th>\n",
       "      <td>0.851757</td>\n",
       "    </tr>\n",
       "    <tr>\n",
       "      <th>Recall</th>\n",
       "      <td>0.603071</td>\n",
       "    </tr>\n",
       "    <tr>\n",
       "      <th>Precision</th>\n",
       "      <td>0.339541</td>\n",
       "    </tr>\n",
       "    <tr>\n",
       "      <th>F1_Score</th>\n",
       "      <td>0.434468</td>\n",
       "    </tr>\n",
       "  </tbody>\n",
       "</table>\n",
       "</div>"
      ],
      "text/plain": [
       "           XGBoostClassifier\n",
       "Accuracy            0.851757\n",
       "Recall              0.603071\n",
       "Precision           0.339541\n",
       "F1_Score            0.434468"
      ]
     },
     "execution_count": 44,
     "metadata": {},
     "output_type": "execute_result"
    }
   ],
   "source": [
    "pd.DataFrame([accuracy, recall, precision, f1], columns = ['XGBoostClassifier'], \n",
    "             index = ['Accuracy', 'Recall', 'Precision', 'F1_Score'])"
   ]
  },
  {
   "cell_type": "markdown",
   "metadata": {},
   "source": [
    "- As tested, tuned XGBoostClassifier model predicts with 0.434 F1_Score"
   ]
  },
  {
   "cell_type": "markdown",
   "metadata": {},
   "source": [
    "### ROC/AUC"
   ]
  },
  {
   "cell_type": "code",
   "execution_count": 45,
   "metadata": {
    "scrolled": false
   },
   "outputs": [
    {
     "data": {
      "image/png": "[encoded data removed]",
      "text/plain": [
       "<Figure size 576x360 with 1 Axes>"
      ]
     },
     "metadata": {
      "needs_background": "light"
     },
     "output_type": "display_data"
    }
   ],
   "source": [
    "# ROC\n",
    "fpr, tpr, threshold = metrics.roc_curve(stacked_gt, stacked_probabilities)\n",
    "roc_auc = metrics.auc(fpr, tpr)\n",
    "plt.figure(figsize = (8, 5))\n",
    "lw = 2\n",
    "plt.plot(fpr, tpr, color='darkorange',\n",
    "         lw=lw, label='ROC curve (area = %0.2f)' % roc_auc)\n",
    "plt.plot([0, 1], [0, 1], color='navy', lw = lw, linestyle='--')\n",
    "plt.xlim([0.0, 1.0])\n",
    "plt.ylim([0.0, 1.05])\n",
    "plt.xlabel('False Positive Rate')\n",
    "plt.ylabel('True Positive Rate')\n",
    "plt.title('ROC Curve')\n",
    "plt.legend(loc=\"lower right\")\n",
    "plt.show()"
   ]
  },
  {
   "cell_type": "markdown",
   "metadata": {},
   "source": [
    "- This figure shows that tradeoff between Recall and Precision are rather equal and to increase the TP in some amount, you need to give up on FP around the same amount. \n",
    "- That is because I resolved the issue of imbalance using a mix of Over and Under Sampling techniques, namely SMOTEEN.\n",
    "- It is still possible to tune model furthermore by tuning according to the predicted probabilities"
   ]
  },
  {
   "cell_type": "markdown",
   "metadata": {},
   "source": [
    "### Probability Threshold Tuning"
   ]
  },
  {
   "cell_type": "code",
   "execution_count": 46,
   "metadata": {},
   "outputs": [],
   "source": [
    "lst_threshold = np.linspace(0, 1, 500)\n",
    "lst_f1score = []\n",
    "for threshold in lst_threshold:\n",
    "    new_preds = (stacked_probabilities.values >= threshold) * 1\n",
    "    lst_f1score.append(metrics.f1_score(stacked_gt, new_preds))\n",
    "\n",
    "tuned_probability = lst_threshold[np.argmax(lst_f1score)]"
   ]
  },
  {
   "cell_type": "code",
   "execution_count": 47,
   "metadata": {
    "scrolled": true
   },
   "outputs": [
    {
     "data": {
      "text/plain": [
       "Text(0.627254509018036, 0.4372023063424417, 'x')"
      ]
     },
     "execution_count": 47,
     "metadata": {},
     "output_type": "execute_result"
    },
    {
     "data": {
      "image/png": "[encoded data removed]",
      "text/plain": [
       "<Figure size 576x288 with 1 Axes>"
      ]
     },
     "metadata": {
      "needs_background": "light"
     },
     "output_type": "display_data"
    }
   ],
   "source": [
    "fig, ax = plt.subplots()\n",
    "pd.DataFrame({'Probability Threshold': lst_threshold, 'F1 Score': lst_f1score}).set_index(\n",
    "    'Probability Threshold').plot(ax = ax,\n",
    "    title = \"A maximum F1 score of \" + str(round(max(lst_f1score), 3)) + \n",
    "                                  \" is achieved in Probability threshold \" + \n",
    "                                  str(round(lst_threshold[np.argmax(lst_f1score)], 3)), \n",
    "                                  figsize = (8, 4))\n",
    "\n",
    "#ax.axvline(tuned_probability, color = 'red')\n",
    "ax.set_ylim(0, 0.5)\n",
    "ax.annotate('x', (tuned_probability, max(lst_f1score)), color = 'red', size = 20)"
   ]
  },
  {
   "cell_type": "markdown",
   "metadata": {},
   "source": [
    "### Feature Importance"
   ]
  },
  {
   "cell_type": "code",
   "execution_count": 276,
   "metadata": {},
   "outputs": [
    {
     "data": {
      "text/plain": [
       "XGBClassifier(base_score=0.5, booster=None, colsample_bylevel=1,\n",
       "              colsample_bynode=1, colsample_bytree=0.5, gamma=2, gpu_id=-1,\n",
       "              importance_type='gain', interaction_constraints=None,\n",
       "              learning_rate=0.300000012, max_delta_step=0, max_depth=15,\n",
       "              min_child_weight=20, missing=nan, monotone_constraints=None,\n",
       "              n_estimators=100, n_jobs=-1, num_parallel_tree=1,\n",
       "              probability=True, random_state=0, reg_alpha=0, reg_lambda=1,\n",
       "              scale_pos_weight=1, subsample=1.0, tree_method=None,\n",
       "              validate_parameters=False, verbosity=None)"
      ]
     },
     "execution_count": 276,
     "metadata": {},
     "output_type": "execute_result"
    }
   ],
   "source": [
    "sampler = SMOTEENN(random_state = 42)\n",
    "X_os, y_os = sampler.fit_sample(X, y)\n",
    "\n",
    "clf = XGBClassifier(n_jobs = -1, probability = True, subsample = 1.0, min_child_weight = 20,\n",
    "                    max_depth = 15, gamma = 2, colsample_bytree = 0.5)\n",
    "clf.fit(X_os, y_os)"
   ]
  },
  {
   "cell_type": "code",
   "execution_count": 314,
   "metadata": {
    "scrolled": false
   },
   "outputs": [
    {
     "data": {
      "text/plain": [
       "<matplotlib.axes._subplots.AxesSubplot at 0x7f52c80f8390>"
      ]
     },
     "execution_count": 314,
     "metadata": {},
     "output_type": "execute_result"
    },
    {
     "data": {
      "image/png": "[encoded data removed]",
      "text/plain": [
       "<Figure size 1080x288 with 1 Axes>"
      ]
     },
     "metadata": {
      "needs_background": "light"
     },
     "output_type": "display_data"
    }
   ],
   "source": [
    "df_fi = pd.DataFrame({'Feature': X.columns, 'Importance': clf.feature_importances_}).sort_values(\n",
    "    by = 'Importance', ascending = False)\n",
    "df_fi.set_index('Feature').head(20).plot(kind = 'bar', rot = 90, figsize = (15, 4), \n",
    "                                         title = 'Feature Importances', legend = False)"
   ]
  },
  {
   "cell_type": "markdown",
   "metadata": {},
   "source": [
    "- When feature importances for XGBoost Classifier model is inspected, it is observed that most important features are:\n",
    "    - Number of Consecutive Vowel Islands\n",
    "    - Whether the word contains English letters 'QWX'\n",
    "    - Number of Letter Repetitions\n",
    "    - Vowel Island with the maximum length in the word\n",
    "    - Vowels / (Vowels + Consonants) ratio\n",
    "    - Frequency and usage of some letters such as u, o, s, j, n, c, g,v\n",
    "    - Number of Consonant/Vowel Switches\n",
    "    \n",
    "- Because:\n",
    "    - In English there are a lot of words made of consecutive vowels whereas that's more rare in Turkish. Also it is possible to see words with 3 consecutive vowels in English. That's unlikely for Turkish.\n",
    "    - QWX feature's importance is rather trivial since Turkish words do not contain those letters\n",
    "    - It seems letter repetitions is much more common in English compared to Turkish\n",
    "    - Letters such as 'o', 's', 'j' are more common in English than Turkish.\n",
    "    - In Turkish, especially the words that remained in our language from the original Asian origins, neither two vowels nor consonants do not come together but they switch between consonant and vowel, as in the case of 'ana', 'baba'.\n",
    "    \n",
    "    \n",
    "- I would expect to see English prefix and suffix features as important but they are not in top 20, oddly"
   ]
  },
  {
   "cell_type": "code",
   "execution_count": 279,
   "metadata": {
    "scrolled": true
   },
   "outputs": [
    {
     "data": {
      "text/html": [
       "<div>\n",
       "<style scoped>\n",
       "    .dataframe tbody tr th:only-of-type {\n",
       "        vertical-align: middle;\n",
       "    }\n",
       "\n",
       "    .dataframe tbody tr th {\n",
       "        vertical-align: top;\n",
       "    }\n",
       "\n",
       "    .dataframe thead th {\n",
       "        text-align: right;\n",
       "    }\n",
       "</style>\n",
       "<table border=\"1\" class=\"dataframe\">\n",
       "  <thead>\n",
       "    <tr style=\"text-align: right;\">\n",
       "      <th></th>\n",
       "      <th>number_of_letter_repetitions</th>\n",
       "    </tr>\n",
       "    <tr>\n",
       "      <th>language</th>\n",
       "      <th></th>\n",
       "    </tr>\n",
       "  </thead>\n",
       "  <tbody>\n",
       "    <tr>\n",
       "      <th>0</th>\n",
       "      <td>0.147195</td>\n",
       "    </tr>\n",
       "    <tr>\n",
       "      <th>1</th>\n",
       "      <td>0.032487</td>\n",
       "    </tr>\n",
       "  </tbody>\n",
       "</table>\n",
       "</div>"
      ],
      "text/plain": [
       "          number_of_letter_repetitions\n",
       "language                              \n",
       "0                             0.147195\n",
       "1                             0.032487"
      ]
     },
     "execution_count": 279,
     "metadata": {},
     "output_type": "execute_result"
    }
   ],
   "source": [
    "pd.DataFrame({'number_of_letter_repetitions': X['number_of_letter_repetitions'].values, \n",
    "              'language': y.values}).groupby('language').mean()"
   ]
  },
  {
   "cell_type": "code",
   "execution_count": 280,
   "metadata": {},
   "outputs": [
    {
     "data": {
      "text/html": [
       "<div>\n",
       "<style scoped>\n",
       "    .dataframe tbody tr th:only-of-type {\n",
       "        vertical-align: middle;\n",
       "    }\n",
       "\n",
       "    .dataframe tbody tr th {\n",
       "        vertical-align: top;\n",
       "    }\n",
       "\n",
       "    .dataframe thead th {\n",
       "        text-align: right;\n",
       "    }\n",
       "</style>\n",
       "<table border=\"1\" class=\"dataframe\">\n",
       "  <thead>\n",
       "    <tr style=\"text-align: right;\">\n",
       "      <th></th>\n",
       "      <th>vowels_consonants_ratio</th>\n",
       "    </tr>\n",
       "    <tr>\n",
       "      <th>language</th>\n",
       "      <th></th>\n",
       "    </tr>\n",
       "  </thead>\n",
       "  <tbody>\n",
       "    <tr>\n",
       "      <th>0</th>\n",
       "      <td>0.390139</td>\n",
       "    </tr>\n",
       "    <tr>\n",
       "      <th>1</th>\n",
       "      <td>0.417366</td>\n",
       "    </tr>\n",
       "  </tbody>\n",
       "</table>\n",
       "</div>"
      ],
      "text/plain": [
       "          vowels_consonants_ratio\n",
       "language                         \n",
       "0                        0.390139\n",
       "1                        0.417366"
      ]
     },
     "execution_count": 280,
     "metadata": {},
     "output_type": "execute_result"
    }
   ],
   "source": [
    "pd.DataFrame({'vowels_consonants_ratio': X['vowels_consonants_ratio'].values, \n",
    "              'language': y.values}).groupby('language').mean()"
   ]
  },
  {
   "cell_type": "code",
   "execution_count": 281,
   "metadata": {
    "scrolled": true
   },
   "outputs": [
    {
     "data": {
      "text/html": [
       "<div>\n",
       "<style scoped>\n",
       "    .dataframe tbody tr th:only-of-type {\n",
       "        vertical-align: middle;\n",
       "    }\n",
       "\n",
       "    .dataframe tbody tr th {\n",
       "        vertical-align: top;\n",
       "    }\n",
       "\n",
       "    .dataframe thead th {\n",
       "        text-align: right;\n",
       "    }\n",
       "</style>\n",
       "<table border=\"1\" class=\"dataframe\">\n",
       "  <thead>\n",
       "    <tr style=\"text-align: right;\">\n",
       "      <th></th>\n",
       "      <th>o</th>\n",
       "    </tr>\n",
       "    <tr>\n",
       "      <th>language</th>\n",
       "      <th></th>\n",
       "    </tr>\n",
       "  </thead>\n",
       "  <tbody>\n",
       "    <tr>\n",
       "      <th>0</th>\n",
       "      <td>0.358441</td>\n",
       "    </tr>\n",
       "    <tr>\n",
       "      <th>1</th>\n",
       "      <td>0.207324</td>\n",
       "    </tr>\n",
       "  </tbody>\n",
       "</table>\n",
       "</div>"
      ],
      "text/plain": [
       "                 o\n",
       "language          \n",
       "0         0.358441\n",
       "1         0.207324"
      ]
     },
     "execution_count": 281,
     "metadata": {},
     "output_type": "execute_result"
    }
   ],
   "source": [
    "pd.DataFrame({'o': X['o'].values, 'language': y.values}).groupby('language').mean()"
   ]
  },
  {
   "cell_type": "code",
   "execution_count": 282,
   "metadata": {
    "scrolled": false
   },
   "outputs": [
    {
     "data": {
      "text/html": [
       "<div>\n",
       "<style scoped>\n",
       "    .dataframe tbody tr th:only-of-type {\n",
       "        vertical-align: middle;\n",
       "    }\n",
       "\n",
       "    .dataframe tbody tr th {\n",
       "        vertical-align: top;\n",
       "    }\n",
       "\n",
       "    .dataframe thead th {\n",
       "        text-align: right;\n",
       "    }\n",
       "</style>\n",
       "<table border=\"1\" class=\"dataframe\">\n",
       "  <thead>\n",
       "    <tr style=\"text-align: right;\">\n",
       "      <th></th>\n",
       "      <th>s</th>\n",
       "    </tr>\n",
       "    <tr>\n",
       "      <th>language</th>\n",
       "      <th></th>\n",
       "    </tr>\n",
       "  </thead>\n",
       "  <tbody>\n",
       "    <tr>\n",
       "      <th>0</th>\n",
       "      <td>0.349326</td>\n",
       "    </tr>\n",
       "    <tr>\n",
       "      <th>1</th>\n",
       "      <td>0.236267</td>\n",
       "    </tr>\n",
       "  </tbody>\n",
       "</table>\n",
       "</div>"
      ],
      "text/plain": [
       "                 s\n",
       "language          \n",
       "0         0.349326\n",
       "1         0.236267"
      ]
     },
     "execution_count": 282,
     "metadata": {},
     "output_type": "execute_result"
    }
   ],
   "source": [
    "pd.DataFrame({'s': X['s'].values, 'language': y.values}).groupby('language').mean()"
   ]
  },
  {
   "cell_type": "code",
   "execution_count": 284,
   "metadata": {
    "scrolled": true
   },
   "outputs": [
    {
     "data": {
      "text/html": [
       "<div>\n",
       "<style scoped>\n",
       "    .dataframe tbody tr th:only-of-type {\n",
       "        vertical-align: middle;\n",
       "    }\n",
       "\n",
       "    .dataframe tbody tr th {\n",
       "        vertical-align: top;\n",
       "    }\n",
       "\n",
       "    .dataframe thead th {\n",
       "        text-align: right;\n",
       "    }\n",
       "</style>\n",
       "<table border=\"1\" class=\"dataframe\">\n",
       "  <thead>\n",
       "    <tr style=\"text-align: right;\">\n",
       "      <th></th>\n",
       "      <th>j</th>\n",
       "    </tr>\n",
       "    <tr>\n",
       "      <th>language</th>\n",
       "      <th></th>\n",
       "    </tr>\n",
       "  </thead>\n",
       "  <tbody>\n",
       "    <tr>\n",
       "      <th>0</th>\n",
       "      <td>0.050009</td>\n",
       "    </tr>\n",
       "    <tr>\n",
       "      <th>1</th>\n",
       "      <td>0.025989</td>\n",
       "    </tr>\n",
       "  </tbody>\n",
       "</table>\n",
       "</div>"
      ],
      "text/plain": [
       "                 j\n",
       "language          \n",
       "0         0.050009\n",
       "1         0.025989"
      ]
     },
     "execution_count": 284,
     "metadata": {},
     "output_type": "execute_result"
    }
   ],
   "source": [
    "pd.DataFrame({'j': X['j'].values, 'language': y.values}).groupby('language').mean()"
   ]
  },
  {
   "cell_type": "markdown",
   "metadata": {},
   "source": [
    "### Predicting for Final Test Data"
   ]
  },
  {
   "cell_type": "code",
   "execution_count": 32,
   "metadata": {},
   "outputs": [],
   "source": [
    "sampler = SMOTEENN(random_state = 42)\n",
    "X_train, y_train = sampler.fit_sample(X, y)\n",
    "\n",
    "clf = XGBClassifier(n_jobs = -1, probability = True, subsample = 1.0, min_child_weight = 20,\n",
    "                    max_depth = 15, gamma = 2, colsample_bytree = 0.5)\n",
    "clf.fit(X_train, y_train)\n",
    "y_gt = y_final_test\n",
    "y_predicted = clf.predict(X_final_test)\n",
    "y_probs = clf.predict_proba(X_final_test)[:,1]"
   ]
  },
  {
   "cell_type": "code",
   "execution_count": 33,
   "metadata": {},
   "outputs": [
    {
     "data": {
      "text/html": [
       "<div>\n",
       "<style scoped>\n",
       "    .dataframe tbody tr th:only-of-type {\n",
       "        vertical-align: middle;\n",
       "    }\n",
       "\n",
       "    .dataframe tbody tr th {\n",
       "        vertical-align: top;\n",
       "    }\n",
       "\n",
       "    .dataframe thead th {\n",
       "        text-align: right;\n",
       "    }\n",
       "</style>\n",
       "<table border=\"1\" class=\"dataframe\">\n",
       "  <thead>\n",
       "    <tr style=\"text-align: right;\">\n",
       "      <th></th>\n",
       "      <th>XGBoostClassifier</th>\n",
       "    </tr>\n",
       "  </thead>\n",
       "  <tbody>\n",
       "    <tr>\n",
       "      <th>Accuracy</th>\n",
       "      <td>0.851765</td>\n",
       "    </tr>\n",
       "    <tr>\n",
       "      <th>Recall</th>\n",
       "      <td>0.616788</td>\n",
       "    </tr>\n",
       "    <tr>\n",
       "      <th>Precision</th>\n",
       "      <td>0.333333</td>\n",
       "    </tr>\n",
       "    <tr>\n",
       "      <th>F1_Score</th>\n",
       "      <td>0.432778</td>\n",
       "    </tr>\n",
       "  </tbody>\n",
       "</table>\n",
       "</div>"
      ],
      "text/plain": [
       "           XGBoostClassifier\n",
       "Accuracy            0.851765\n",
       "Recall              0.616788\n",
       "Precision           0.333333\n",
       "F1_Score            0.432778"
      ]
     },
     "execution_count": 33,
     "metadata": {},
     "output_type": "execute_result"
    }
   ],
   "source": [
    "accuracy = metrics.accuracy_score(y_gt, y_predicted)\n",
    "recall = metrics.recall_score(y_gt, y_predicted)\n",
    "precision = metrics.precision_score(y_gt, y_predicted)\n",
    "f1 = metrics.f1_score(y_gt, y_predicted)\n",
    "pd.DataFrame([accuracy, recall, precision, f1], columns = ['XGBoostClassifier'], \n",
    "             index = ['Accuracy', 'Recall', 'Precision', 'F1_Score'])"
   ]
  },
  {
   "cell_type": "markdown",
   "metadata": {},
   "source": [
    "- Confusion Matrix"
   ]
  },
  {
   "cell_type": "code",
   "execution_count": 35,
   "metadata": {
    "scrolled": true
   },
   "outputs": [
    {
     "data": {
      "text/html": [
       "<div>\n",
       "<style scoped>\n",
       "    .dataframe tbody tr th:only-of-type {\n",
       "        vertical-align: middle;\n",
       "    }\n",
       "\n",
       "    .dataframe tbody tr th {\n",
       "        vertical-align: top;\n",
       "    }\n",
       "\n",
       "    .dataframe thead th {\n",
       "        text-align: right;\n",
       "    }\n",
       "</style>\n",
       "<table border=\"1\" class=\"dataframe\">\n",
       "  <thead>\n",
       "    <tr style=\"text-align: right;\">\n",
       "      <th></th>\n",
       "      <th>0</th>\n",
       "      <th>1</th>\n",
       "    </tr>\n",
       "  </thead>\n",
       "  <tbody>\n",
       "    <tr>\n",
       "      <th>0</th>\n",
       "      <td>0.795</td>\n",
       "      <td>0.113</td>\n",
       "    </tr>\n",
       "    <tr>\n",
       "      <th>1</th>\n",
       "      <td>0.035</td>\n",
       "      <td>0.057</td>\n",
       "    </tr>\n",
       "  </tbody>\n",
       "</table>\n",
       "</div>"
      ],
      "text/plain": [
       "       0      1\n",
       "0  0.795  0.113\n",
       "1  0.035  0.057"
      ]
     },
     "execution_count": 35,
     "metadata": {},
     "output_type": "execute_result"
    }
   ],
   "source": [
    "pd.DataFrame(metrics.confusion_matrix(y_gt, y_predicted, normalize = 'all')).round(3)"
   ]
  },
  {
   "cell_type": "markdown",
   "metadata": {},
   "source": [
    "- The F1 Score result is very similar to the one in model development phase, 0.43. Therefore the effort to prevent Overfitting paid off."
   ]
  },
  {
   "cell_type": "markdown",
   "metadata": {},
   "source": [
    "- Lastly, I will try the tuned probability to see whether it will improve the result"
   ]
  },
  {
   "cell_type": "code",
   "execution_count": 48,
   "metadata": {},
   "outputs": [
    {
     "data": {
      "text/html": [
       "<div>\n",
       "<style scoped>\n",
       "    .dataframe tbody tr th:only-of-type {\n",
       "        vertical-align: middle;\n",
       "    }\n",
       "\n",
       "    .dataframe tbody tr th {\n",
       "        vertical-align: top;\n",
       "    }\n",
       "\n",
       "    .dataframe thead th {\n",
       "        text-align: right;\n",
       "    }\n",
       "</style>\n",
       "<table border=\"1\" class=\"dataframe\">\n",
       "  <thead>\n",
       "    <tr style=\"text-align: right;\">\n",
       "      <th></th>\n",
       "      <th>XGBoostClassifier</th>\n",
       "    </tr>\n",
       "  </thead>\n",
       "  <tbody>\n",
       "    <tr>\n",
       "      <th>Accuracy</th>\n",
       "      <td>0.877363</td>\n",
       "    </tr>\n",
       "    <tr>\n",
       "      <th>Recall</th>\n",
       "      <td>0.534672</td>\n",
       "    </tr>\n",
       "    <tr>\n",
       "      <th>Precision</th>\n",
       "      <td>0.380026</td>\n",
       "    </tr>\n",
       "    <tr>\n",
       "      <th>F1_Score</th>\n",
       "      <td>0.444276</td>\n",
       "    </tr>\n",
       "  </tbody>\n",
       "</table>\n",
       "</div>"
      ],
      "text/plain": [
       "           XGBoostClassifier\n",
       "Accuracy            0.877363\n",
       "Recall              0.534672\n",
       "Precision           0.380026\n",
       "F1_Score            0.444276"
      ]
     },
     "execution_count": 48,
     "metadata": {},
     "output_type": "execute_result"
    }
   ],
   "source": [
    "tuned_prob_preds = (y_probs >= tuned_probability) * 1\n",
    "\n",
    "accuracy = metrics.accuracy_score(y_gt, tuned_prob_preds)\n",
    "recall = metrics.recall_score(y_gt, tuned_prob_preds)\n",
    "precision = metrics.precision_score(y_gt, tuned_prob_preds)\n",
    "f1 = metrics.f1_score(y_gt, tuned_prob_preds)\n",
    "df_final_results = pd.DataFrame([accuracy, recall, precision, f1], \n",
    "                                columns = ['XGBoostClassifier'], \n",
    "                                index = ['Accuracy', 'Recall', 'Precision', 'F1_Score'])\n",
    "df_final_results"
   ]
  },
  {
   "cell_type": "markdown",
   "metadata": {},
   "source": [
    "- YAY! Tuned probability boosted the F1 Score by 2.6%, additional to increasing Accuracy, too.\n",
    "- I am happy to see that this effort resulted in improvement"
   ]
  },
  {
   "cell_type": "markdown",
   "metadata": {},
   "source": [
    "### Word Inspection of Classification Results"
   ]
  },
  {
   "cell_type": "code",
   "execution_count": 59,
   "metadata": {},
   "outputs": [],
   "source": [
    "df_inspection = df.loc[X_final_test.index.values]\n",
    "df_inspection['prediction'] = tuned_prob_preds\n",
    "df_inspection['prediction'] = df_inspection['prediction'].astype(str).replace('0', 'eng').replace('1', 'tr')"
   ]
  },
  {
   "cell_type": "code",
   "execution_count": 62,
   "metadata": {},
   "outputs": [
    {
     "data": {
      "text/html": [
       "<div>\n",
       "<style scoped>\n",
       "    .dataframe tbody tr th:only-of-type {\n",
       "        vertical-align: middle;\n",
       "    }\n",
       "\n",
       "    .dataframe tbody tr th {\n",
       "        vertical-align: top;\n",
       "    }\n",
       "\n",
       "    .dataframe thead th {\n",
       "        text-align: right;\n",
       "    }\n",
       "</style>\n",
       "<table border=\"1\" class=\"dataframe\">\n",
       "  <thead>\n",
       "    <tr style=\"text-align: right;\">\n",
       "      <th></th>\n",
       "      <th>word</th>\n",
       "      <th>language</th>\n",
       "      <th>prediction</th>\n",
       "    </tr>\n",
       "  </thead>\n",
       "  <tbody>\n",
       "    <tr>\n",
       "      <th>7696</th>\n",
       "      <td>yuzluk</td>\n",
       "      <td>eng</td>\n",
       "      <td>tr</td>\n",
       "    </tr>\n",
       "    <tr>\n",
       "      <th>21354</th>\n",
       "      <td>kermis</td>\n",
       "      <td>eng</td>\n",
       "      <td>tr</td>\n",
       "    </tr>\n",
       "    <tr>\n",
       "      <th>1538</th>\n",
       "      <td>mezuza</td>\n",
       "      <td>eng</td>\n",
       "      <td>tr</td>\n",
       "    </tr>\n",
       "    <tr>\n",
       "      <th>23145</th>\n",
       "      <td>doseme</td>\n",
       "      <td>tr</td>\n",
       "      <td>eng</td>\n",
       "    </tr>\n",
       "    <tr>\n",
       "      <th>2576</th>\n",
       "      <td>begift</td>\n",
       "      <td>eng</td>\n",
       "      <td>tr</td>\n",
       "    </tr>\n",
       "    <tr>\n",
       "      <th>23325</th>\n",
       "      <td>surume</td>\n",
       "      <td>tr</td>\n",
       "      <td>eng</td>\n",
       "    </tr>\n",
       "    <tr>\n",
       "      <th>16903</th>\n",
       "      <td>tekya</td>\n",
       "      <td>eng</td>\n",
       "      <td>tr</td>\n",
       "    </tr>\n",
       "    <tr>\n",
       "      <th>9462</th>\n",
       "      <td>jole</td>\n",
       "      <td>eng</td>\n",
       "      <td>tr</td>\n",
       "    </tr>\n",
       "    <tr>\n",
       "      <th>16931</th>\n",
       "      <td>tamul</td>\n",
       "      <td>eng</td>\n",
       "      <td>tr</td>\n",
       "    </tr>\n",
       "    <tr>\n",
       "      <th>21107</th>\n",
       "      <td>karat</td>\n",
       "      <td>eng</td>\n",
       "      <td>tr</td>\n",
       "    </tr>\n",
       "    <tr>\n",
       "      <th>22230</th>\n",
       "      <td>ecza</td>\n",
       "      <td>tr</td>\n",
       "      <td>eng</td>\n",
       "    </tr>\n",
       "    <tr>\n",
       "      <th>23223</th>\n",
       "      <td>rozbif</td>\n",
       "      <td>tr</td>\n",
       "      <td>eng</td>\n",
       "    </tr>\n",
       "    <tr>\n",
       "      <th>8443</th>\n",
       "      <td>okas</td>\n",
       "      <td>eng</td>\n",
       "      <td>tr</td>\n",
       "    </tr>\n",
       "    <tr>\n",
       "      <th>22263</th>\n",
       "      <td>amfora</td>\n",
       "      <td>tr</td>\n",
       "      <td>eng</td>\n",
       "    </tr>\n",
       "    <tr>\n",
       "      <th>10036</th>\n",
       "      <td>uluhi</td>\n",
       "      <td>eng</td>\n",
       "      <td>tr</td>\n",
       "    </tr>\n",
       "    <tr>\n",
       "      <th>23377</th>\n",
       "      <td>siirce</td>\n",
       "      <td>tr</td>\n",
       "      <td>eng</td>\n",
       "    </tr>\n",
       "    <tr>\n",
       "      <th>22166</th>\n",
       "      <td>esasi</td>\n",
       "      <td>tr</td>\n",
       "      <td>eng</td>\n",
       "    </tr>\n",
       "    <tr>\n",
       "      <th>313</th>\n",
       "      <td>fice</td>\n",
       "      <td>eng</td>\n",
       "      <td>tr</td>\n",
       "    </tr>\n",
       "    <tr>\n",
       "      <th>5750</th>\n",
       "      <td>alum</td>\n",
       "      <td>eng</td>\n",
       "      <td>tr</td>\n",
       "    </tr>\n",
       "    <tr>\n",
       "      <th>1710</th>\n",
       "      <td>mimir</td>\n",
       "      <td>eng</td>\n",
       "      <td>tr</td>\n",
       "    </tr>\n",
       "    <tr>\n",
       "      <th>4952</th>\n",
       "      <td>emily</td>\n",
       "      <td>eng</td>\n",
       "      <td>tr</td>\n",
       "    </tr>\n",
       "    <tr>\n",
       "      <th>6181</th>\n",
       "      <td>alans</td>\n",
       "      <td>eng</td>\n",
       "      <td>tr</td>\n",
       "    </tr>\n",
       "    <tr>\n",
       "      <th>18392</th>\n",
       "      <td>itzebu</td>\n",
       "      <td>eng</td>\n",
       "      <td>tr</td>\n",
       "    </tr>\n",
       "    <tr>\n",
       "      <th>21314</th>\n",
       "      <td>kurukh</td>\n",
       "      <td>eng</td>\n",
       "      <td>tr</td>\n",
       "    </tr>\n",
       "    <tr>\n",
       "      <th>22439</th>\n",
       "      <td>lens</td>\n",
       "      <td>tr</td>\n",
       "      <td>eng</td>\n",
       "    </tr>\n",
       "    <tr>\n",
       "      <th>21779</th>\n",
       "      <td>mahmul</td>\n",
       "      <td>tr</td>\n",
       "      <td>eng</td>\n",
       "    </tr>\n",
       "    <tr>\n",
       "      <th>625</th>\n",
       "      <td>forgat</td>\n",
       "      <td>eng</td>\n",
       "      <td>tr</td>\n",
       "    </tr>\n",
       "    <tr>\n",
       "      <th>22459</th>\n",
       "      <td>leopar</td>\n",
       "      <td>tr</td>\n",
       "      <td>eng</td>\n",
       "    </tr>\n",
       "    <tr>\n",
       "      <th>19616</th>\n",
       "      <td>namely</td>\n",
       "      <td>eng</td>\n",
       "      <td>tr</td>\n",
       "    </tr>\n",
       "    <tr>\n",
       "      <th>23203</th>\n",
       "      <td>renyum</td>\n",
       "      <td>tr</td>\n",
       "      <td>eng</td>\n",
       "    </tr>\n",
       "  </tbody>\n",
       "</table>\n",
       "</div>"
      ],
      "text/plain": [
       "         word language prediction\n",
       "7696   yuzluk      eng         tr\n",
       "21354  kermis      eng         tr\n",
       "1538   mezuza      eng         tr\n",
       "23145  doseme       tr        eng\n",
       "2576   begift      eng         tr\n",
       "23325  surume       tr        eng\n",
       "16903   tekya      eng         tr\n",
       "9462     jole      eng         tr\n",
       "16931   tamul      eng         tr\n",
       "21107   karat      eng         tr\n",
       "22230    ecza       tr        eng\n",
       "23223  rozbif       tr        eng\n",
       "8443     okas      eng         tr\n",
       "22263  amfora       tr        eng\n",
       "10036   uluhi      eng         tr\n",
       "23377  siirce       tr        eng\n",
       "22166   esasi       tr        eng\n",
       "313      fice      eng         tr\n",
       "5750     alum      eng         tr\n",
       "1710    mimir      eng         tr\n",
       "4952    emily      eng         tr\n",
       "6181    alans      eng         tr\n",
       "18392  itzebu      eng         tr\n",
       "21314  kurukh      eng         tr\n",
       "22439    lens       tr        eng\n",
       "21779  mahmul       tr        eng\n",
       "625    forgat      eng         tr\n",
       "22459  leopar       tr        eng\n",
       "19616  namely      eng         tr\n",
       "23203  renyum       tr        eng"
      ]
     },
     "execution_count": 62,
     "metadata": {},
     "output_type": "execute_result"
    }
   ],
   "source": [
    "df_inspection[df_inspection['language'] != df_inspection['prediction']].sample(30)"
   ]
  },
  {
   "cell_type": "code",
   "execution_count": 61,
   "metadata": {
    "scrolled": false
   },
   "outputs": [
    {
     "data": {
      "text/html": [
       "<div>\n",
       "<style scoped>\n",
       "    .dataframe tbody tr th:only-of-type {\n",
       "        vertical-align: middle;\n",
       "    }\n",
       "\n",
       "    .dataframe tbody tr th {\n",
       "        vertical-align: top;\n",
       "    }\n",
       "\n",
       "    .dataframe thead th {\n",
       "        text-align: right;\n",
       "    }\n",
       "</style>\n",
       "<table border=\"1\" class=\"dataframe\">\n",
       "  <thead>\n",
       "    <tr style=\"text-align: right;\">\n",
       "      <th></th>\n",
       "      <th>word</th>\n",
       "      <th>language</th>\n",
       "      <th>prediction</th>\n",
       "    </tr>\n",
       "  </thead>\n",
       "  <tbody>\n",
       "    <tr>\n",
       "      <th>23555</th>\n",
       "      <td>istop</td>\n",
       "      <td>tr</td>\n",
       "      <td>eng</td>\n",
       "    </tr>\n",
       "    <tr>\n",
       "      <th>21192</th>\n",
       "      <td>kiley</td>\n",
       "      <td>eng</td>\n",
       "      <td>tr</td>\n",
       "    </tr>\n",
       "    <tr>\n",
       "      <th>5873</th>\n",
       "      <td>abada</td>\n",
       "      <td>eng</td>\n",
       "      <td>tr</td>\n",
       "    </tr>\n",
       "    <tr>\n",
       "      <th>23438</th>\n",
       "      <td>teamul</td>\n",
       "      <td>tr</td>\n",
       "      <td>eng</td>\n",
       "    </tr>\n",
       "    <tr>\n",
       "      <th>18080</th>\n",
       "      <td>impala</td>\n",
       "      <td>eng</td>\n",
       "      <td>tr</td>\n",
       "    </tr>\n",
       "    <tr>\n",
       "      <th>2236</th>\n",
       "      <td>batara</td>\n",
       "      <td>eng</td>\n",
       "      <td>tr</td>\n",
       "    </tr>\n",
       "    <tr>\n",
       "      <th>8299</th>\n",
       "      <td>ovant</td>\n",
       "      <td>eng</td>\n",
       "      <td>tr</td>\n",
       "    </tr>\n",
       "    <tr>\n",
       "      <th>22965</th>\n",
       "      <td>gocus</td>\n",
       "      <td>tr</td>\n",
       "      <td>eng</td>\n",
       "    </tr>\n",
       "    <tr>\n",
       "      <th>17741</th>\n",
       "      <td>ihlat</td>\n",
       "      <td>eng</td>\n",
       "      <td>tr</td>\n",
       "    </tr>\n",
       "    <tr>\n",
       "      <th>1588</th>\n",
       "      <td>mockup</td>\n",
       "      <td>eng</td>\n",
       "      <td>tr</td>\n",
       "    </tr>\n",
       "    <tr>\n",
       "      <th>9681</th>\n",
       "      <td>upsup</td>\n",
       "      <td>eng</td>\n",
       "      <td>tr</td>\n",
       "    </tr>\n",
       "    <tr>\n",
       "      <th>6555</th>\n",
       "      <td>lavas</td>\n",
       "      <td>eng</td>\n",
       "      <td>tr</td>\n",
       "    </tr>\n",
       "    <tr>\n",
       "      <th>2074</th>\n",
       "      <td>bandi</td>\n",
       "      <td>eng</td>\n",
       "      <td>tr</td>\n",
       "    </tr>\n",
       "    <tr>\n",
       "      <th>3472</th>\n",
       "      <td>vihara</td>\n",
       "      <td>eng</td>\n",
       "      <td>tr</td>\n",
       "    </tr>\n",
       "    <tr>\n",
       "      <th>21903</th>\n",
       "      <td>banyo</td>\n",
       "      <td>tr</td>\n",
       "      <td>eng</td>\n",
       "    </tr>\n",
       "    <tr>\n",
       "      <th>13267</th>\n",
       "      <td>curagh</td>\n",
       "      <td>eng</td>\n",
       "      <td>tr</td>\n",
       "    </tr>\n",
       "    <tr>\n",
       "      <th>6694</th>\n",
       "      <td>lidar</td>\n",
       "      <td>eng</td>\n",
       "      <td>tr</td>\n",
       "    </tr>\n",
       "    <tr>\n",
       "      <th>15579</th>\n",
       "      <td>resile</td>\n",
       "      <td>eng</td>\n",
       "      <td>tr</td>\n",
       "    </tr>\n",
       "    <tr>\n",
       "      <th>14775</th>\n",
       "      <td>rebake</td>\n",
       "      <td>eng</td>\n",
       "      <td>tr</td>\n",
       "    </tr>\n",
       "    <tr>\n",
       "      <th>21109</th>\n",
       "      <td>kari</td>\n",
       "      <td>eng</td>\n",
       "      <td>tr</td>\n",
       "    </tr>\n",
       "    <tr>\n",
       "      <th>23325</th>\n",
       "      <td>surume</td>\n",
       "      <td>tr</td>\n",
       "      <td>eng</td>\n",
       "    </tr>\n",
       "    <tr>\n",
       "      <th>21772</th>\n",
       "      <td>meral</td>\n",
       "      <td>tr</td>\n",
       "      <td>eng</td>\n",
       "    </tr>\n",
       "    <tr>\n",
       "      <th>16012</th>\n",
       "      <td>sisal</td>\n",
       "      <td>eng</td>\n",
       "      <td>tr</td>\n",
       "    </tr>\n",
       "    <tr>\n",
       "      <th>19753</th>\n",
       "      <td>humus</td>\n",
       "      <td>eng</td>\n",
       "      <td>tr</td>\n",
       "    </tr>\n",
       "    <tr>\n",
       "      <th>16841</th>\n",
       "      <td>tahali</td>\n",
       "      <td>eng</td>\n",
       "      <td>tr</td>\n",
       "    </tr>\n",
       "    <tr>\n",
       "      <th>23659</th>\n",
       "      <td>neseli</td>\n",
       "      <td>tr</td>\n",
       "      <td>eng</td>\n",
       "    </tr>\n",
       "    <tr>\n",
       "      <th>19102</th>\n",
       "      <td>nizams</td>\n",
       "      <td>eng</td>\n",
       "      <td>tr</td>\n",
       "    </tr>\n",
       "    <tr>\n",
       "      <th>19063</th>\n",
       "      <td>nepit</td>\n",
       "      <td>eng</td>\n",
       "      <td>tr</td>\n",
       "    </tr>\n",
       "    <tr>\n",
       "      <th>22007</th>\n",
       "      <td>vites</td>\n",
       "      <td>tr</td>\n",
       "      <td>eng</td>\n",
       "    </tr>\n",
       "    <tr>\n",
       "      <th>7149</th>\n",
       "      <td>libre</td>\n",
       "      <td>eng</td>\n",
       "      <td>tr</td>\n",
       "    </tr>\n",
       "  </tbody>\n",
       "</table>\n",
       "</div>"
      ],
      "text/plain": [
       "         word language prediction\n",
       "23555   istop       tr        eng\n",
       "21192   kiley      eng         tr\n",
       "5873    abada      eng         tr\n",
       "23438  teamul       tr        eng\n",
       "18080  impala      eng         tr\n",
       "2236   batara      eng         tr\n",
       "8299    ovant      eng         tr\n",
       "22965   gocus       tr        eng\n",
       "17741   ihlat      eng         tr\n",
       "1588   mockup      eng         tr\n",
       "9681    upsup      eng         tr\n",
       "6555    lavas      eng         tr\n",
       "2074    bandi      eng         tr\n",
       "3472   vihara      eng         tr\n",
       "21903   banyo       tr        eng\n",
       "13267  curagh      eng         tr\n",
       "6694    lidar      eng         tr\n",
       "15579  resile      eng         tr\n",
       "14775  rebake      eng         tr\n",
       "21109    kari      eng         tr\n",
       "23325  surume       tr        eng\n",
       "21772   meral       tr        eng\n",
       "16012   sisal      eng         tr\n",
       "19753   humus      eng         tr\n",
       "16841  tahali      eng         tr\n",
       "23659  neseli       tr        eng\n",
       "19102  nizams      eng         tr\n",
       "19063   nepit      eng         tr\n",
       "22007   vites       tr        eng\n",
       "7149    libre      eng         tr"
      ]
     },
     "execution_count": 61,
     "metadata": {},
     "output_type": "execute_result"
    }
   ],
   "source": [
    "df_inspection[df_inspection['language'] != df_inspection['prediction']].sample(30)"
   ]
  },
  {
   "cell_type": "markdown",
   "metadata": {},
   "source": [
    "- When misclassified words are inspected I realize many of these words are hard ones in terms of syntatical distinction, but also hard semantically, too. I do not know the meanings of most of them\n",
    "- For example:\n",
    "    - teamul and siirce words are classified as english. That makes sense because they contain \"ea\", \"ii\" in them, consecutive vowels, something more frequently seen in English words.\n",
    "    - istop is classified as english, which is understandable.\n",
    "    - nizams is classified as turkish, because in fact it is a turkish origined word! nizam!\n",
    "    - some of the missclassified english words such as rebake, kari, resile, lidar, batara, abada fall into the rule of \"number of consonant-vowel switches\", which is seen a lot in turkish.\n",
    "    - some of the words are labelled so odd that if I was asked to classify, I would do the same mistakes with the model. For example, jole, yuzluk, humus, lavas, tamul, karat sound Turkish to me, but in the label they are English."
   ]
  },
  {
   "cell_type": "markdown",
   "metadata": {},
   "source": [
    "### Conclusion and Future Research"
   ]
  },
  {
   "cell_type": "markdown",
   "metadata": {},
   "source": [
    "- It is not easy to distinguish Turkish and English words from each other with no semantics but only syntatic approach\n",
    "- Model is more successful at recognizing English words than Turkish words, since 90% of the Data was English, that is expected.\n",
    "    - TN rate is 0.91\n",
    "    - TP rate is 0.53\n",
    "    - Conclusively, model is able to recognize 91% of the English words and 53% of the Turkish words. That's not too bad, given that only 10% of the words are Turkish.\n",
    "\n",
    "- Feature Importances are explained in more detail in the related section above but Consecutive Vowel Islands features contributed the most to the model success.\n",
    "- Using SMOTEEN to balance the data helped a lot since the original data was imbalanced.\n",
    "- Hyperparameter Search increased the success of the model by 2.67 %.\n",
    "- Tuning the probability further increased the model success by 2.6 %. In total more than 5% increase in F1 Score!\n",
    "- It is possible to try out many more things, such as adding even more features, removing some existing ones, tuning SMOTEEN by changing oversampling ratio, etc.\n",
    "- Inspecting the misclassified words, it is seen that even when making mistakes, the model MAKES SENSE of it, following syntatical approach as trained to do. Therefore, with better choice of training data, model can be much more successful!\n",
    "- Current best model is XGBoost with hyperparameters and probability threshold tuned with a score of 0.44 F1 Score.\n",
    "- Final Confusion Matrix and Metrics look like:"
   ]
  },
  {
   "cell_type": "code",
   "execution_count": 306,
   "metadata": {},
   "outputs": [
    {
     "data": {
      "text/html": [
       "<div>\n",
       "<style scoped>\n",
       "    .dataframe tbody tr th:only-of-type {\n",
       "        vertical-align: middle;\n",
       "    }\n",
       "\n",
       "    .dataframe tbody tr th {\n",
       "        vertical-align: top;\n",
       "    }\n",
       "\n",
       "    .dataframe thead th {\n",
       "        text-align: right;\n",
       "    }\n",
       "</style>\n",
       "<table border=\"1\" class=\"dataframe\">\n",
       "  <thead>\n",
       "    <tr style=\"text-align: right;\">\n",
       "      <th></th>\n",
       "      <th>XGBoostClassifier</th>\n",
       "    </tr>\n",
       "  </thead>\n",
       "  <tbody>\n",
       "    <tr>\n",
       "      <th>Accuracy</th>\n",
       "      <td>0.877363</td>\n",
       "    </tr>\n",
       "    <tr>\n",
       "      <th>Recall</th>\n",
       "      <td>0.534672</td>\n",
       "    </tr>\n",
       "    <tr>\n",
       "      <th>Precision</th>\n",
       "      <td>0.380026</td>\n",
       "    </tr>\n",
       "    <tr>\n",
       "      <th>F1_Score</th>\n",
       "      <td>0.444276</td>\n",
       "    </tr>\n",
       "  </tbody>\n",
       "</table>\n",
       "</div>"
      ],
      "text/plain": [
       "           XGBoostClassifier\n",
       "Accuracy            0.877363\n",
       "Recall              0.534672\n",
       "Precision           0.380026\n",
       "F1_Score            0.444276"
      ]
     },
     "execution_count": 306,
     "metadata": {},
     "output_type": "execute_result"
    }
   ],
   "source": [
    "df_final_results"
   ]
  },
  {
   "cell_type": "code",
   "execution_count": 310,
   "metadata": {},
   "outputs": [
    {
     "data": {
      "text/html": [
       "<div>\n",
       "<style scoped>\n",
       "    .dataframe tbody tr th:only-of-type {\n",
       "        vertical-align: middle;\n",
       "    }\n",
       "\n",
       "    .dataframe tbody tr th {\n",
       "        vertical-align: top;\n",
       "    }\n",
       "\n",
       "    .dataframe thead th {\n",
       "        text-align: right;\n",
       "    }\n",
       "</style>\n",
       "<table border=\"1\" class=\"dataframe\">\n",
       "  <thead>\n",
       "    <tr style=\"text-align: right;\">\n",
       "      <th></th>\n",
       "      <th>0</th>\n",
       "      <th>1</th>\n",
       "    </tr>\n",
       "  </thead>\n",
       "  <tbody>\n",
       "    <tr>\n",
       "      <th>0</th>\n",
       "      <td>0.828</td>\n",
       "      <td>0.080</td>\n",
       "    </tr>\n",
       "    <tr>\n",
       "      <th>1</th>\n",
       "      <td>0.043</td>\n",
       "      <td>0.049</td>\n",
       "    </tr>\n",
       "  </tbody>\n",
       "</table>\n",
       "</div>"
      ],
      "text/plain": [
       "       0      1\n",
       "0  0.828  0.080\n",
       "1  0.043  0.049"
      ]
     },
     "execution_count": 310,
     "metadata": {},
     "output_type": "execute_result"
    }
   ],
   "source": [
    "pd.DataFrame(metrics.confusion_matrix(y_gt, tuned_prob_preds, normalize = 'all')).round(3)"
   ]
  }
 ],
 "metadata": {
  "kernelspec": {
   "display_name": "Python 3",
   "language": "python",
   "name": "python3"
  },
  "language_info": {
   "codemirror_mode": {
    "name": "ipython",
    "version": 3
   },
   "file_extension": ".py",
   "mimetype": "text/x-python",
   "name": "python",
   "nbconvert_exporter": "python",
   "pygments_lexer": "ipython3",
   "version": "3.7.7"
  },
  "varInspector": {
   "cols": {
    "lenName": 16,
    "lenType": 16,
    "lenVar": 40
   },
   "kernels_config": {
    "python": {
     "delete_cmd_postfix": "",
     "delete_cmd_prefix": "del ",
     "library": "var_list.py",
     "varRefreshCmd": "print(var_dic_list())"
    },
    "r": {
     "delete_cmd_postfix": ") ",
     "delete_cmd_prefix": "rm(",
     "library": "var_list.r",
     "varRefreshCmd": "cat(var_dic_list()) "
    }
   },
   "types_to_exclude": [
    "module",
    "function",
    "builtin_function_or_method",
    "instance",
    "_Feature"
   ],
   "window_display": false
  }
 },
 "nbformat": 4,
 "nbformat_minor": 4
}
