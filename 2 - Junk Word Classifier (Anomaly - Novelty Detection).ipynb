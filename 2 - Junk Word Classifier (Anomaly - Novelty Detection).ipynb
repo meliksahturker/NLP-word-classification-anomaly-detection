{
 "cells": [
  {
   "cell_type": "code",
   "execution_count": 2,
   "metadata": {},
   "outputs": [],
   "source": [
    "import pandas as pd\n",
    "import numpy as np\n",
    "import matplotlib.pyplot as plt"
   ]
  },
  {
   "cell_type": "markdown",
   "metadata": {},
   "source": [
    "# 0. Data Reading and Handling"
   ]
  },
  {
   "cell_type": "code",
   "execution_count": 3,
   "metadata": {},
   "outputs": [],
   "source": [
    "df_eng = pd.read_csv('Eng.csv')\n",
    "df_eng.columns = ['word']\n",
    "df_eng['language'] = 'eng'"
   ]
  },
  {
   "cell_type": "code",
   "execution_count": 4,
   "metadata": {
    "scrolled": false
   },
   "outputs": [
    {
     "data": {
      "text/html": [
       "<div>\n",
       "<style scoped>\n",
       "    .dataframe tbody tr th:only-of-type {\n",
       "        vertical-align: middle;\n",
       "    }\n",
       "\n",
       "    .dataframe tbody tr th {\n",
       "        vertical-align: top;\n",
       "    }\n",
       "\n",
       "    .dataframe thead th {\n",
       "        text-align: right;\n",
       "    }\n",
       "</style>\n",
       "<table border=\"1\" class=\"dataframe\">\n",
       "  <thead>\n",
       "    <tr style=\"text-align: right;\">\n",
       "      <th></th>\n",
       "      <th>word</th>\n",
       "      <th>language</th>\n",
       "    </tr>\n",
       "  </thead>\n",
       "  <tbody>\n",
       "    <tr>\n",
       "      <th>19278</th>\n",
       "      <td>NaN</td>\n",
       "      <td>eng</td>\n",
       "    </tr>\n",
       "  </tbody>\n",
       "</table>\n",
       "</div>"
      ],
      "text/plain": [
       "      word language\n",
       "19278  NaN      eng"
      ]
     },
     "execution_count": 4,
     "metadata": {},
     "output_type": "execute_result"
    }
   ],
   "source": [
    "df_eng[df_eng['word'].isna()]"
   ]
  },
  {
   "cell_type": "markdown",
   "metadata": {},
   "source": [
    "- pandas csv_reader interpreted the word 'null' as NaN so I fix that"
   ]
  },
  {
   "cell_type": "code",
   "execution_count": 5,
   "metadata": {},
   "outputs": [],
   "source": [
    "df_eng = df_eng.fillna('null') "
   ]
  },
  {
   "cell_type": "code",
   "execution_count": 6,
   "metadata": {},
   "outputs": [],
   "source": [
    "df_tr = pd.read_csv('Turkish.csv')\n",
    "df_tr.columns = ['word']\n",
    "df_tr['language'] = 'tr'"
   ]
  },
  {
   "cell_type": "code",
   "execution_count": 7,
   "metadata": {
    "scrolled": true
   },
   "outputs": [
    {
     "data": {
      "text/html": [
       "<div>\n",
       "<style scoped>\n",
       "    .dataframe tbody tr th:only-of-type {\n",
       "        vertical-align: middle;\n",
       "    }\n",
       "\n",
       "    .dataframe tbody tr th {\n",
       "        vertical-align: top;\n",
       "    }\n",
       "\n",
       "    .dataframe thead th {\n",
       "        text-align: right;\n",
       "    }\n",
       "</style>\n",
       "<table border=\"1\" class=\"dataframe\">\n",
       "  <thead>\n",
       "    <tr style=\"text-align: right;\">\n",
       "      <th></th>\n",
       "      <th>word</th>\n",
       "      <th>language</th>\n",
       "    </tr>\n",
       "  </thead>\n",
       "  <tbody>\n",
       "    <tr>\n",
       "      <th>223</th>\n",
       "      <td>bes on</td>\n",
       "      <td>tr</td>\n",
       "    </tr>\n",
       "    <tr>\n",
       "      <th>357</th>\n",
       "      <td>v yaka</td>\n",
       "      <td>tr</td>\n",
       "    </tr>\n",
       "    <tr>\n",
       "      <th>533</th>\n",
       "      <td>el gun</td>\n",
       "      <td>tr</td>\n",
       "    </tr>\n",
       "    <tr>\n",
       "      <th>605</th>\n",
       "      <td>ak kan</td>\n",
       "      <td>tr</td>\n",
       "    </tr>\n",
       "    <tr>\n",
       "      <th>680</th>\n",
       "      <td>ak yem</td>\n",
       "      <td>tr</td>\n",
       "    </tr>\n",
       "    <tr>\n",
       "      <th>750</th>\n",
       "      <td>lop et</td>\n",
       "      <td>tr</td>\n",
       "    </tr>\n",
       "    <tr>\n",
       "      <th>919</th>\n",
       "      <td>on soz</td>\n",
       "      <td>tr</td>\n",
       "    </tr>\n",
       "    <tr>\n",
       "      <th>961</th>\n",
       "      <td>on kol</td>\n",
       "      <td>tr</td>\n",
       "    </tr>\n",
       "    <tr>\n",
       "      <th>994</th>\n",
       "      <td>oz isi</td>\n",
       "      <td>tr</td>\n",
       "    </tr>\n",
       "    <tr>\n",
       "      <th>1054</th>\n",
       "      <td>uc iki</td>\n",
       "      <td>tr</td>\n",
       "    </tr>\n",
       "    <tr>\n",
       "      <th>1888</th>\n",
       "      <td>ic isi</td>\n",
       "      <td>tr</td>\n",
       "    </tr>\n",
       "  </tbody>\n",
       "</table>\n",
       "</div>"
      ],
      "text/plain": [
       "        word language\n",
       "223   bes on       tr\n",
       "357   v yaka       tr\n",
       "533   el gun       tr\n",
       "605   ak kan       tr\n",
       "680   ak yem       tr\n",
       "750   lop et       tr\n",
       "919   on soz       tr\n",
       "961   on kol       tr\n",
       "994   oz isi       tr\n",
       "1054  uc iki       tr\n",
       "1888  ic isi       tr"
      ]
     },
     "execution_count": 7,
     "metadata": {},
     "output_type": "execute_result"
    }
   ],
   "source": [
    "df_tr[df_tr['word'].str.contains(' ')]"
   ]
  },
  {
   "cell_type": "markdown",
   "metadata": {},
   "source": [
    "- There are some words that are not actually single words.\n",
    "- I will create new rows by splitting them\n",
    "- I will drop 'v' since it is a single letter with no meaning without 'yaka'\n",
    "- I will also drop duplicates in the cases above since there are many'on'"
   ]
  },
  {
   "cell_type": "code",
   "execution_count": 8,
   "metadata": {
    "scrolled": true
   },
   "outputs": [
    {
     "name": "stdout",
     "output_type": "stream",
     "text": [
      "['ak' 'bes' 'el' 'et' 'gun' 'ic' 'iki' 'isi' 'kan' 'kol' 'lop' 'on' 'oz'\n",
      " 'soz' 'uc' 'yaka' 'yem']\n"
     ]
    }
   ],
   "source": [
    "singlized_words = np.unique(np.reshape(df_tr[df_tr['word'].str.contains(' ')]['word'].str.split(\" \").values.tolist(), -1))\n",
    "singlized_words = singlized_words[singlized_words != 'v']\n",
    "print(singlized_words)"
   ]
  },
  {
   "cell_type": "markdown",
   "metadata": {},
   "source": [
    "- Now drop rows with double words and add these words into the dataframe as rows"
   ]
  },
  {
   "cell_type": "code",
   "execution_count": 9,
   "metadata": {},
   "outputs": [],
   "source": [
    "df_tr = df_tr[~df_tr['word'].str.contains(' ')]"
   ]
  },
  {
   "cell_type": "code",
   "execution_count": 10,
   "metadata": {},
   "outputs": [
    {
     "data": {
      "text/html": [
       "<div>\n",
       "<style scoped>\n",
       "    .dataframe tbody tr th:only-of-type {\n",
       "        vertical-align: middle;\n",
       "    }\n",
       "\n",
       "    .dataframe tbody tr th {\n",
       "        vertical-align: top;\n",
       "    }\n",
       "\n",
       "    .dataframe thead th {\n",
       "        text-align: right;\n",
       "    }\n",
       "</style>\n",
       "<table border=\"1\" class=\"dataframe\">\n",
       "  <thead>\n",
       "    <tr style=\"text-align: right;\">\n",
       "      <th></th>\n",
       "      <th>word</th>\n",
       "      <th>language</th>\n",
       "    </tr>\n",
       "  </thead>\n",
       "  <tbody>\n",
       "  </tbody>\n",
       "</table>\n",
       "</div>"
      ],
      "text/plain": [
       "Empty DataFrame\n",
       "Columns: [word, language]\n",
       "Index: []"
      ]
     },
     "execution_count": 10,
     "metadata": {},
     "output_type": "execute_result"
    }
   ],
   "source": [
    "df_tr[df_tr['word'].str.contains(' ')]"
   ]
  },
  {
   "cell_type": "markdown",
   "metadata": {},
   "source": [
    "- Done"
   ]
  },
  {
   "cell_type": "code",
   "execution_count": 11,
   "metadata": {
    "scrolled": true
   },
   "outputs": [
    {
     "data": {
      "text/html": [
       "<div>\n",
       "<style scoped>\n",
       "    .dataframe tbody tr th:only-of-type {\n",
       "        vertical-align: middle;\n",
       "    }\n",
       "\n",
       "    .dataframe tbody tr th {\n",
       "        vertical-align: top;\n",
       "    }\n",
       "\n",
       "    .dataframe thead th {\n",
       "        text-align: right;\n",
       "    }\n",
       "</style>\n",
       "<table border=\"1\" class=\"dataframe\">\n",
       "  <thead>\n",
       "    <tr style=\"text-align: right;\">\n",
       "      <th></th>\n",
       "      <th>word</th>\n",
       "      <th>language</th>\n",
       "    </tr>\n",
       "  </thead>\n",
       "  <tbody>\n",
       "    <tr>\n",
       "      <th>2231</th>\n",
       "      <td>isi</td>\n",
       "      <td>tr</td>\n",
       "    </tr>\n",
       "    <tr>\n",
       "      <th>2232</th>\n",
       "      <td>kan</td>\n",
       "      <td>tr</td>\n",
       "    </tr>\n",
       "    <tr>\n",
       "      <th>2233</th>\n",
       "      <td>kol</td>\n",
       "      <td>tr</td>\n",
       "    </tr>\n",
       "    <tr>\n",
       "      <th>2234</th>\n",
       "      <td>lop</td>\n",
       "      <td>tr</td>\n",
       "    </tr>\n",
       "    <tr>\n",
       "      <th>2235</th>\n",
       "      <td>on</td>\n",
       "      <td>tr</td>\n",
       "    </tr>\n",
       "    <tr>\n",
       "      <th>2236</th>\n",
       "      <td>oz</td>\n",
       "      <td>tr</td>\n",
       "    </tr>\n",
       "    <tr>\n",
       "      <th>2237</th>\n",
       "      <td>soz</td>\n",
       "      <td>tr</td>\n",
       "    </tr>\n",
       "    <tr>\n",
       "      <th>2238</th>\n",
       "      <td>uc</td>\n",
       "      <td>tr</td>\n",
       "    </tr>\n",
       "    <tr>\n",
       "      <th>2239</th>\n",
       "      <td>yaka</td>\n",
       "      <td>tr</td>\n",
       "    </tr>\n",
       "    <tr>\n",
       "      <th>2240</th>\n",
       "      <td>yem</td>\n",
       "      <td>tr</td>\n",
       "    </tr>\n",
       "  </tbody>\n",
       "</table>\n",
       "</div>"
      ],
      "text/plain": [
       "      word language\n",
       "2231   isi       tr\n",
       "2232   kan       tr\n",
       "2233   kol       tr\n",
       "2234   lop       tr\n",
       "2235    on       tr\n",
       "2236    oz       tr\n",
       "2237   soz       tr\n",
       "2238    uc       tr\n",
       "2239  yaka       tr\n",
       "2240   yem       tr"
      ]
     },
     "execution_count": 11,
     "metadata": {},
     "output_type": "execute_result"
    }
   ],
   "source": [
    "df_tr = pd.concat([df_tr, pd.DataFrame({'word': singlized_words, 'language': 'tr'})]).reset_index(\n",
    "    drop = True)\n",
    "df_tr.tail(10)"
   ]
  },
  {
   "cell_type": "markdown",
   "metadata": {},
   "source": [
    "- OK they are added to the tail"
   ]
  },
  {
   "cell_type": "markdown",
   "metadata": {},
   "source": [
    "- Finally I can merge both tr and eng words into single table"
   ]
  },
  {
   "cell_type": "code",
   "execution_count": 12,
   "metadata": {},
   "outputs": [],
   "source": [
    "df = pd.concat([df_eng, df_tr]).reset_index(drop = True)"
   ]
  },
  {
   "cell_type": "markdown",
   "metadata": {},
   "source": [
    "# 2. Junk Word Classification: \n",
    "## Anomaly / Novelty Detection"
   ]
  },
  {
   "cell_type": "markdown",
   "metadata": {},
   "source": [
    "- In the problem definition, it is clearly stated that we assume data does NOT contain any junk words. That points out to NOVELTY detection, rather than outlier detection. Therefore this will be the method I am going to use to distinguish junk words from actual words."
   ]
  },
  {
   "cell_type": "markdown",
   "metadata": {},
   "source": [
    "Knowing that junk words are created by pressing the keyboard randomly, they carry two common features that are different from actual words:\n",
    "- They have low number of unique letters in them, compared to their size. For example 'asdadasdasdsa' word is made of 13 letters but only 3 are unique. On the other hand, an actual word such as 'distinctive' is made of 11 letters, 8 of which are unique. Therefore, while junk words have low number_of_unique_letters / number_of_letters ratio, actual words have a higher one, closer to 1.0.\n",
    "- Since they are created by a fast process on keyboard, they are made of letters that are very close to each other. I will measure this closeness with sum of 'Manhattan Distance's between letters / Number of Letters in Word. Manhattan distance is sum of the horizontal and vertical distance between objects. This metric makes sense because it is unlikely to make a typo with a letter that is not adjacent. Sum of manhattan distances of consecutive letters are divided by the length of the word to normalize it so that it will be possible to evalulate long and short words in a more justified way."
   ]
  },
  {
   "cell_type": "markdown",
   "metadata": {},
   "source": [
    "### Extra Features that I could use"
   ]
  },
  {
   "cell_type": "markdown",
   "metadata": {},
   "source": [
    "- number of repetetive letters\n",
    "- max of, number of consecutive vowel islands\n",
    "- max of, number of consecutive consonant islands\n",
    "- number of repetetive letters 'aaaadd' 4 and 2, so there are 2 repetitions\n",
    "- max of repetitions, for example 'aaaadd' 4"
   ]
  },
  {
   "cell_type": "markdown",
   "metadata": {},
   "source": [
    "- Helper objects and functions that will allow me to calculate Manhattan Distance between letters in Keyboard"
   ]
  },
  {
   "cell_type": "code",
   "execution_count": 356,
   "metadata": {},
   "outputs": [],
   "source": [
    "# Q-EN Keyboard Representation\n",
    "first_line = ['q', 'w', 'e', 'r', 't', 'y', 'u', 'i', 'o', 'p']\n",
    "second_line = ['a', 's', 'd', 'f', 'g', 'h', 'j', 'k', 'l']\n",
    "third_line = ['z', 'x', 'c', 'v', 'b', 'n', 'm']\n",
    "\n",
    "# Helper functions that calculate the Manhattan Distance between Letters in English-Q keyboard\n",
    "def position(letter):\n",
    "    if letter in first_line:\n",
    "        position_of_letter = (0, first_line.index(letter))\n",
    "    elif letter in second_line:\n",
    "        position_of_letter = (1, second_line.index(letter))\n",
    "    else:\n",
    "        position_of_letter = (2, third_line.index(letter))\n",
    "    return position_of_letter\n",
    "\n",
    "def manhattan_distance(first_letter, second_letter):\n",
    "    position_of_first_letter = position(first_letter)\n",
    "    position_of_second_letter = position(second_letter)\n",
    "    \n",
    "    return abs(position_of_first_letter[0] - position_of_second_letter[0]) + abs(\n",
    "        position_of_first_letter[1] - position_of_second_letter[1])"
   ]
  },
  {
   "cell_type": "markdown",
   "metadata": {},
   "source": [
    "- Range of features are different. While unique_letters_len_ratio's range is (0, 1), manhattan_len_ratio's range is (0, 8) in this dataset. Normally, it is good practice to scale and normalize the features, in order to prevent any bias towards a single feature, however I've seen that normalizing results in a incredible decrease in model success, from 0.8 to 0.5-ish. So I commented out the scaling code."
   ]
  },
  {
   "cell_type": "code",
   "execution_count": 357,
   "metadata": {},
   "outputs": [],
   "source": [
    "# Novelty Detection Features\n",
    "def novelty_detection_features(array):\n",
    "    lst_novelty_features = []\n",
    "    #scaler = MinMaxScaler()\n",
    "    for word in array:\n",
    "        sum_of_manh_dist = 0\n",
    "        for i in range(len(word) - 1):\n",
    "            first_letter = word[i]\n",
    "            second_letter = word[i+1]\n",
    "            sum_of_manh_dist += manhattan_distance(first_letter, second_letter)\n",
    "\n",
    "        manhattan_len_ratio = sum_of_manh_dist / len(word)\n",
    "\n",
    "        # ----------------------------------------------------------------\n",
    "\n",
    "        number_of_unique_letters = len(np.unique(list(word)))\n",
    "        unique_letters_len_ratio = number_of_unique_letters / len(word)\n",
    "\n",
    "        # ----------------------------------------------------------------\n",
    "        lst_novelty_features.append([manhattan_len_ratio, unique_letters_len_ratio])\n",
    "        \n",
    "    \n",
    "    #lst_novelty_features = scaler.fit_transform(lst_novelty_features)\n",
    "        \n",
    "    df_nov = pd.DataFrame(lst_novelty_features, columns = ['manh_len_ratio', 'unique_letters_len_ratio'])\n",
    "    df_nov['word'] = array\n",
    "    \n",
    "    return df_nov"
   ]
  },
  {
   "cell_type": "code",
   "execution_count": 358,
   "metadata": {},
   "outputs": [],
   "source": [
    "df_nov = novelty_detection_features(df['word'])"
   ]
  },
  {
   "cell_type": "code",
   "execution_count": 359,
   "metadata": {},
   "outputs": [
    {
     "data": {
      "text/html": [
       "<div>\n",
       "<style scoped>\n",
       "    .dataframe tbody tr th:only-of-type {\n",
       "        vertical-align: middle;\n",
       "    }\n",
       "\n",
       "    .dataframe tbody tr th {\n",
       "        vertical-align: top;\n",
       "    }\n",
       "\n",
       "    .dataframe thead th {\n",
       "        text-align: right;\n",
       "    }\n",
       "</style>\n",
       "<table border=\"1\" class=\"dataframe\">\n",
       "  <thead>\n",
       "    <tr style=\"text-align: right;\">\n",
       "      <th></th>\n",
       "      <th>manh_len_ratio</th>\n",
       "      <th>unique_letters_len_ratio</th>\n",
       "      <th>word</th>\n",
       "    </tr>\n",
       "  </thead>\n",
       "  <tbody>\n",
       "    <tr>\n",
       "      <th>1035</th>\n",
       "      <td>0.000000</td>\n",
       "      <td>0.250000</td>\n",
       "      <td>mmmm</td>\n",
       "    </tr>\n",
       "    <tr>\n",
       "      <th>8196</th>\n",
       "      <td>0.000000</td>\n",
       "      <td>0.250000</td>\n",
       "      <td>oooo</td>\n",
       "    </tr>\n",
       "    <tr>\n",
       "      <th>2870</th>\n",
       "      <td>2.000000</td>\n",
       "      <td>0.333333</td>\n",
       "      <td>beebee</td>\n",
       "    </tr>\n",
       "    <tr>\n",
       "      <th>1909</th>\n",
       "      <td>1.000000</td>\n",
       "      <td>0.333333</td>\n",
       "      <td>muumuu</td>\n",
       "    </tr>\n",
       "    <tr>\n",
       "      <th>21129</th>\n",
       "      <td>4.666667</td>\n",
       "      <td>0.333333</td>\n",
       "      <td>kakkak</td>\n",
       "    </tr>\n",
       "    <tr>\n",
       "      <th>2993</th>\n",
       "      <td>3.000000</td>\n",
       "      <td>0.333333</td>\n",
       "      <td>booboo</td>\n",
       "    </tr>\n",
       "    <tr>\n",
       "      <th>12045</th>\n",
       "      <td>1.500000</td>\n",
       "      <td>0.333333</td>\n",
       "      <td>geggee</td>\n",
       "    </tr>\n",
       "    <tr>\n",
       "      <th>4056</th>\n",
       "      <td>5.000000</td>\n",
       "      <td>0.333333</td>\n",
       "      <td>zoozoo</td>\n",
       "    </tr>\n",
       "    <tr>\n",
       "      <th>10400</th>\n",
       "      <td>2.400000</td>\n",
       "      <td>0.400000</td>\n",
       "      <td>ululu</td>\n",
       "    </tr>\n",
       "    <tr>\n",
       "      <th>4911</th>\n",
       "      <td>0.800000</td>\n",
       "      <td>0.400000</td>\n",
       "      <td>essee</td>\n",
       "    </tr>\n",
       "  </tbody>\n",
       "</table>\n",
       "</div>"
      ],
      "text/plain": [
       "       manh_len_ratio  unique_letters_len_ratio    word\n",
       "1035         0.000000                  0.250000    mmmm\n",
       "8196         0.000000                  0.250000    oooo\n",
       "2870         2.000000                  0.333333  beebee\n",
       "1909         1.000000                  0.333333  muumuu\n",
       "21129        4.666667                  0.333333  kakkak\n",
       "2993         3.000000                  0.333333  booboo\n",
       "12045        1.500000                  0.333333  geggee\n",
       "4056         5.000000                  0.333333  zoozoo\n",
       "10400        2.400000                  0.400000   ululu\n",
       "4911         0.800000                  0.400000   essee"
      ]
     },
     "execution_count": 359,
     "metadata": {},
     "output_type": "execute_result"
    }
   ],
   "source": [
    "df_nov.sort_values(by = 'unique_letters_len_ratio').head(10)"
   ]
  },
  {
   "cell_type": "code",
   "execution_count": 360,
   "metadata": {},
   "outputs": [
    {
     "data": {
      "text/html": [
       "<div>\n",
       "<style scoped>\n",
       "    .dataframe tbody tr th:only-of-type {\n",
       "        vertical-align: middle;\n",
       "    }\n",
       "\n",
       "    .dataframe tbody tr th {\n",
       "        vertical-align: top;\n",
       "    }\n",
       "\n",
       "    .dataframe thead th {\n",
       "        text-align: right;\n",
       "    }\n",
       "</style>\n",
       "<table border=\"1\" class=\"dataframe\">\n",
       "  <thead>\n",
       "    <tr style=\"text-align: right;\">\n",
       "      <th></th>\n",
       "      <th>manh_len_ratio</th>\n",
       "      <th>unique_letters_len_ratio</th>\n",
       "      <th>word</th>\n",
       "    </tr>\n",
       "  </thead>\n",
       "  <tbody>\n",
       "    <tr>\n",
       "      <th>8196</th>\n",
       "      <td>0.0</td>\n",
       "      <td>0.25</td>\n",
       "      <td>oooo</td>\n",
       "    </tr>\n",
       "    <tr>\n",
       "      <th>1035</th>\n",
       "      <td>0.0</td>\n",
       "      <td>0.25</td>\n",
       "      <td>mmmm</td>\n",
       "    </tr>\n",
       "    <tr>\n",
       "      <th>15853</th>\n",
       "      <td>0.5</td>\n",
       "      <td>0.50</td>\n",
       "      <td>sass</td>\n",
       "    </tr>\n",
       "    <tr>\n",
       "      <th>14895</th>\n",
       "      <td>0.5</td>\n",
       "      <td>0.75</td>\n",
       "      <td>reed</td>\n",
       "    </tr>\n",
       "    <tr>\n",
       "      <th>6288</th>\n",
       "      <td>0.5</td>\n",
       "      <td>0.50</td>\n",
       "      <td>loll</td>\n",
       "    </tr>\n",
       "    <tr>\n",
       "      <th>13976</th>\n",
       "      <td>0.5</td>\n",
       "      <td>0.50</td>\n",
       "      <td>deed</td>\n",
       "    </tr>\n",
       "    <tr>\n",
       "      <th>7095</th>\n",
       "      <td>0.5</td>\n",
       "      <td>0.75</td>\n",
       "      <td>loop</td>\n",
       "    </tr>\n",
       "    <tr>\n",
       "      <th>10751</th>\n",
       "      <td>0.5</td>\n",
       "      <td>0.75</td>\n",
       "      <td>pool</td>\n",
       "    </tr>\n",
       "    <tr>\n",
       "      <th>11571</th>\n",
       "      <td>0.5</td>\n",
       "      <td>0.50</td>\n",
       "      <td>poop</td>\n",
       "    </tr>\n",
       "    <tr>\n",
       "      <th>14954</th>\n",
       "      <td>0.6</td>\n",
       "      <td>0.60</td>\n",
       "      <td>rfree</td>\n",
       "    </tr>\n",
       "  </tbody>\n",
       "</table>\n",
       "</div>"
      ],
      "text/plain": [
       "       manh_len_ratio  unique_letters_len_ratio   word\n",
       "8196              0.0                      0.25   oooo\n",
       "1035              0.0                      0.25   mmmm\n",
       "15853             0.5                      0.50   sass\n",
       "14895             0.5                      0.75   reed\n",
       "6288              0.5                      0.50   loll\n",
       "13976             0.5                      0.50   deed\n",
       "7095              0.5                      0.75   loop\n",
       "10751             0.5                      0.75   pool\n",
       "11571             0.5                      0.50   poop\n",
       "14954             0.6                      0.60  rfree"
      ]
     },
     "execution_count": 360,
     "metadata": {},
     "output_type": "execute_result"
    }
   ],
   "source": [
    "df_nov.sort_values(by = 'manh_len_ratio').head(10)"
   ]
  },
  {
   "cell_type": "markdown",
   "metadata": {},
   "source": [
    "- Even though it was stated that the data does not contain any junk words, it seems both features are able to show made-up words for low values although some actual words also exist in low manhattan_distance / length ratio values such as 'deed', 'pool', 'poop'"
   ]
  },
  {
   "cell_type": "code",
   "execution_count": 361,
   "metadata": {},
   "outputs": [],
   "source": [
    "X_train = df_nov.drop('word', axis = 1)"
   ]
  },
  {
   "cell_type": "markdown",
   "metadata": {},
   "source": [
    "- Visual Inspection at Data"
   ]
  },
  {
   "cell_type": "code",
   "execution_count": 362,
   "metadata": {
    "scrolled": false
   },
   "outputs": [
    {
     "data": {
      "text/plain": [
       "<matplotlib.collections.PathCollection at 0x7f5269154e10>"
      ]
     },
     "execution_count": 362,
     "metadata": {},
     "output_type": "execute_result"
    },
    {
     "data": {
      "image/png": "[encoded data removed]",
      "text/plain": [
       "<Figure size 432x288 with 1 Axes>"
      ]
     },
     "metadata": {
      "needs_background": "light"
     },
     "output_type": "display_data"
    }
   ],
   "source": [
    "plt.scatter(data = X_train, x = X_train.columns[0], y = X_train.columns[1])"
   ]
  },
  {
   "cell_type": "markdown",
   "metadata": {},
   "source": [
    "- I dont really see clear distinction, though points get sparser in low values of Y axis"
   ]
  },
  {
   "cell_type": "markdown",
   "metadata": {},
   "source": [
    "- I create some new words to test the model, 0.5 junk and 0.5 actual words, both turkish and english"
   ]
  },
  {
   "cell_type": "code",
   "execution_count": 363,
   "metadata": {},
   "outputs": [],
   "source": [
    "test_words = ['asdadsadasda', 'qwewqewqewqeqw', 'xcvcxvcxvcxvcxvx', 'poipoipoipoipoip', 'jkjkjkjk', \n",
    "              'iiiiiiiiiii', 'aaaaaaaaaa', 'oooooooooo', 'sgfqwgqgqgqg', 'huahuahuhuahuahuahua', 'zuhauhauhauhauh',\n",
    "              'hjghjghjghj', 'hahahahhahahaha', 'jajajajaj', 'xaxaxaxaxaxaxa',\n",
    "              'meliksah', 'turker',  'data', 'scientist', 'advanced', 'analytics',\n",
    "              'machine', 'learning', 'bogazici', 'besiktas', 'maltepe', 'istanbul',\n",
    "              'teknik', 'online', 'services']\n",
    "y_test = 15 * [-1] + 15 * [1]"
   ]
  },
  {
   "cell_type": "code",
   "execution_count": 364,
   "metadata": {},
   "outputs": [],
   "source": [
    "df_test = novelty_detection_features(test_words)"
   ]
  },
  {
   "cell_type": "code",
   "execution_count": 365,
   "metadata": {
    "scrolled": true
   },
   "outputs": [
    {
     "data": {
      "text/html": [
       "<div>\n",
       "<style scoped>\n",
       "    .dataframe tbody tr th:only-of-type {\n",
       "        vertical-align: middle;\n",
       "    }\n",
       "\n",
       "    .dataframe tbody tr th {\n",
       "        vertical-align: top;\n",
       "    }\n",
       "\n",
       "    .dataframe thead th {\n",
       "        text-align: right;\n",
       "    }\n",
       "</style>\n",
       "<table border=\"1\" class=\"dataframe\">\n",
       "  <thead>\n",
       "    <tr style=\"text-align: right;\">\n",
       "      <th></th>\n",
       "      <th>manh_len_ratio</th>\n",
       "      <th>unique_letters_len_ratio</th>\n",
       "      <th>word</th>\n",
       "    </tr>\n",
       "  </thead>\n",
       "  <tbody>\n",
       "    <tr>\n",
       "      <th>0</th>\n",
       "      <td>1.333333</td>\n",
       "      <td>0.250000</td>\n",
       "      <td>asdadsadasda</td>\n",
       "    </tr>\n",
       "    <tr>\n",
       "      <th>1</th>\n",
       "      <td>1.214286</td>\n",
       "      <td>0.214286</td>\n",
       "      <td>qwewqewqewqeqw</td>\n",
       "    </tr>\n",
       "    <tr>\n",
       "      <th>2</th>\n",
       "      <td>1.250000</td>\n",
       "      <td>0.187500</td>\n",
       "      <td>xcvcxvcxvcxvcxvx</td>\n",
       "    </tr>\n",
       "  </tbody>\n",
       "</table>\n",
       "</div>"
      ],
      "text/plain": [
       "   manh_len_ratio  unique_letters_len_ratio              word\n",
       "0        1.333333                  0.250000      asdadsadasda\n",
       "1        1.214286                  0.214286    qwewqewqewqeqw\n",
       "2        1.250000                  0.187500  xcvcxvcxvcxvcxvx"
      ]
     },
     "execution_count": 365,
     "metadata": {},
     "output_type": "execute_result"
    }
   ],
   "source": [
    "df_test.head(3)"
   ]
  },
  {
   "cell_type": "code",
   "execution_count": 366,
   "metadata": {},
   "outputs": [],
   "source": [
    "X_test = df_test.drop('word', axis = 1)"
   ]
  },
  {
   "cell_type": "code",
   "execution_count": 406,
   "metadata": {},
   "outputs": [],
   "source": [
    "from sklearn.neighbors import LocalOutlierFactor\n",
    "clf = LocalOutlierFactor(n_neighbors = 3, novelty = True)\n",
    "clf.fit(X_train)\n",
    "y_predicted = clf.predict(X_test)\n",
    "y_probs = clf.decision_function(X_test)\n",
    "y_gt = y_test"
   ]
  },
  {
   "cell_type": "code",
   "execution_count": 407,
   "metadata": {
    "scrolled": false
   },
   "outputs": [
    {
     "data": {
      "text/html": [
       "<div>\n",
       "<style scoped>\n",
       "    .dataframe tbody tr th:only-of-type {\n",
       "        vertical-align: middle;\n",
       "    }\n",
       "\n",
       "    .dataframe tbody tr th {\n",
       "        vertical-align: top;\n",
       "    }\n",
       "\n",
       "    .dataframe thead th {\n",
       "        text-align: right;\n",
       "    }\n",
       "</style>\n",
       "<table border=\"1\" class=\"dataframe\">\n",
       "  <thead>\n",
       "    <tr style=\"text-align: right;\">\n",
       "      <th></th>\n",
       "      <th>LocalOutlierFactor</th>\n",
       "    </tr>\n",
       "  </thead>\n",
       "  <tbody>\n",
       "    <tr>\n",
       "      <th>Accuracy</th>\n",
       "      <td>0.80</td>\n",
       "    </tr>\n",
       "    <tr>\n",
       "      <th>Recall</th>\n",
       "      <td>0.60</td>\n",
       "    </tr>\n",
       "    <tr>\n",
       "      <th>Precision</th>\n",
       "      <td>1.00</td>\n",
       "    </tr>\n",
       "    <tr>\n",
       "      <th>F1_Score</th>\n",
       "      <td>0.75</td>\n",
       "    </tr>\n",
       "  </tbody>\n",
       "</table>\n",
       "</div>"
      ],
      "text/plain": [
       "           LocalOutlierFactor\n",
       "Accuracy                 0.80\n",
       "Recall                   0.60\n",
       "Precision                1.00\n",
       "F1_Score                 0.75"
      ]
     },
     "execution_count": 407,
     "metadata": {},
     "output_type": "execute_result"
    }
   ],
   "source": [
    "metrics.accuracy_score(y_test, y_predicted)\n",
    "accuracy = metrics.accuracy_score(y_gt, y_predicted)\n",
    "recall = metrics.recall_score(y_gt, y_predicted)\n",
    "precision = metrics.precision_score(y_gt, y_predicted)\n",
    "f1 = metrics.f1_score(y_gt, y_predicted)\n",
    "pd.DataFrame([accuracy, recall, precision, f1], columns = ['LocalOutlierFactor'], \n",
    "             index = ['Accuracy', 'Recall', 'Precision', 'F1_Score'])"
   ]
  },
  {
   "cell_type": "markdown",
   "metadata": {},
   "source": [
    "- I predicted with an accuracy of 0.8 and perfect precision\n",
    "- Let's test the result for different parameters of our classifier"
   ]
  },
  {
   "cell_type": "code",
   "execution_count": 348,
   "metadata": {},
   "outputs": [],
   "source": [
    "metric_results = []\n",
    "for n_neighbors in range(2, 30, 1):\n",
    "    clf = LocalOutlierFactor(n_neighbors = n_neighbors, novelty = True)\n",
    "    clf.fit(X_train)\n",
    "    y_predicted = clf.predict(X_test)\n",
    "    metric_results.append(metrics.accuracy_score(y_test, y_predicted))"
   ]
  },
  {
   "cell_type": "code",
   "execution_count": 349,
   "metadata": {
    "scrolled": true
   },
   "outputs": [
    {
     "data": {
      "text/plain": [
       "<matplotlib.axes._subplots.AxesSubplot at 0x7f5268632150>"
      ]
     },
     "execution_count": 349,
     "metadata": {},
     "output_type": "execute_result"
    },
    {
     "data": {
      "image/png": "[encoded data removed]",
      "text/plain": [
       "<Figure size 432x288 with 1 Axes>"
      ]
     },
     "metadata": {
      "needs_background": "light"
     },
     "output_type": "display_data"
    }
   ],
   "source": [
    "pd.DataFrame({'n_neighbors': range(2, 30, 1), 'Accuracy': metric_results}).plot(\n",
    "    x = 'n_neighbors', y = 'Accuracy', \n",
    "    title = \"The model's success peaks at n_neighbors = \" + str(np.argmax(metric_results) + 2))"
   ]
  },
  {
   "cell_type": "markdown",
   "metadata": {},
   "source": [
    "- I will try to tune this model by changing decision_function score(probability) threshold"
   ]
  },
  {
   "cell_type": "code",
   "execution_count": 432,
   "metadata": {},
   "outputs": [],
   "source": [
    "lst_threshold = np.linspace(-2, 2, 1000)\n",
    "lst_f1score = []\n",
    "for threshold in lst_threshold:\n",
    "    new_preds = (y_probs < threshold) * 1\n",
    "    lst_f1score.append(metrics.accuracy_score((np.array(y_test) < 0), new_preds))\n",
    "\n",
    "tuned_probability = lst_threshold[np.argmax(lst_f1score)]"
   ]
  },
  {
   "cell_type": "code",
   "execution_count": 434,
   "metadata": {
    "scrolled": true
   },
   "outputs": [
    {
     "data": {
      "text/plain": [
       "Text(-0.062062062062061996, 0.8, 'x')"
      ]
     },
     "execution_count": 434,
     "metadata": {},
     "output_type": "execute_result"
    },
    {
     "data": {
      "image/png": "[encoded data removed]",
      "text/plain": [
       "<Figure size 576x288 with 1 Axes>"
      ]
     },
     "metadata": {
      "needs_background": "light"
     },
     "output_type": "display_data"
    }
   ],
   "source": [
    "fig, ax = plt.subplots()\n",
    "pd.DataFrame({'Probability Threshold': lst_threshold, 'F1 Score': lst_f1score}).set_index(\n",
    "    'Probability Threshold').plot(ax = ax,\n",
    "    title = \"A maximum Accuracy score of \" + str(round(max(lst_f1score), 3)) + \" is achieved in Probability threshold \" + str(round(lst_threshold[np.argmax(lst_f1score)], 3)), figsize = (8, 4))\n",
    "\n",
    "#ax.axvline(tuned_probability, color = 'red')\n",
    "ax.annotate('x', (tuned_probability, max(lst_f1score)), color = 'red', size = 20)"
   ]
  },
  {
   "cell_type": "markdown",
   "metadata": {},
   "source": [
    "- So it was possible to increase the F1 score from 0.75 to 0.833. That's 11% improvement and is actually great!\n",
    "- Let's check all metrics with the new, optimized threshold:"
   ]
  },
  {
   "cell_type": "code",
   "execution_count": 431,
   "metadata": {},
   "outputs": [
    {
     "data": {
      "text/html": [
       "<div>\n",
       "<style scoped>\n",
       "    .dataframe tbody tr th:only-of-type {\n",
       "        vertical-align: middle;\n",
       "    }\n",
       "\n",
       "    .dataframe tbody tr th {\n",
       "        vertical-align: top;\n",
       "    }\n",
       "\n",
       "    .dataframe thead th {\n",
       "        text-align: right;\n",
       "    }\n",
       "</style>\n",
       "<table border=\"1\" class=\"dataframe\">\n",
       "  <thead>\n",
       "    <tr style=\"text-align: right;\">\n",
       "      <th></th>\n",
       "      <th>XGBoostClassifier</th>\n",
       "    </tr>\n",
       "  </thead>\n",
       "  <tbody>\n",
       "    <tr>\n",
       "      <th>Accuracy</th>\n",
       "      <td>0.800000</td>\n",
       "    </tr>\n",
       "    <tr>\n",
       "      <th>Recall</th>\n",
       "      <td>1.000000</td>\n",
       "    </tr>\n",
       "    <tr>\n",
       "      <th>Precision</th>\n",
       "      <td>0.714286</td>\n",
       "    </tr>\n",
       "    <tr>\n",
       "      <th>F1_Score</th>\n",
       "      <td>0.833333</td>\n",
       "    </tr>\n",
       "  </tbody>\n",
       "</table>\n",
       "</div>"
      ],
      "text/plain": [
       "           XGBoostClassifier\n",
       "Accuracy            0.800000\n",
       "Recall              1.000000\n",
       "Precision           0.714286\n",
       "F1_Score            0.833333"
      ]
     },
     "execution_count": 431,
     "metadata": {},
     "output_type": "execute_result"
    }
   ],
   "source": [
    "tuned_prob_preds = (y_probs < tuned_probability) * 1\n",
    "\n",
    "accuracy = metrics.accuracy_score((np.array(y_test) < 0), tuned_prob_preds)\n",
    "recall = metrics.recall_score((np.array(y_test) < 0), tuned_prob_preds)\n",
    "precision = metrics.precision_score((np.array(y_test) < 0), tuned_prob_preds)\n",
    "f1 = metrics.f1_score((np.array(y_test) < 0), tuned_prob_preds)\n",
    "df_final_results = pd.DataFrame([accuracy, recall, precision, f1], \n",
    "                                columns = ['XGBoostClassifier'], \n",
    "                                index = ['Accuracy', 'Recall', 'Precision', 'F1_Score'])\n",
    "df_final_results"
   ]
  },
  {
   "cell_type": "markdown",
   "metadata": {},
   "source": [
    "### Diagnostics of Novelty Detection"
   ]
  },
  {
   "cell_type": "markdown",
   "metadata": {},
   "source": [
    "- I will inspect the words where the model made misclassifications and try to understand why"
   ]
  },
  {
   "cell_type": "code",
   "execution_count": 350,
   "metadata": {},
   "outputs": [],
   "source": [
    "clf = LocalOutlierFactor(n_neighbors = 3, novelty = True)\n",
    "clf.fit(X_train)\n",
    "y_predicted = clf.predict(X_test)"
   ]
  },
  {
   "cell_type": "code",
   "execution_count": 351,
   "metadata": {},
   "outputs": [],
   "source": [
    "df_diag = pd.DataFrame({'word': test_words, 'label': y_test, 'predicted': y_predicted})"
   ]
  },
  {
   "cell_type": "markdown",
   "metadata": {},
   "source": [
    "- Misclassified words are:"
   ]
  },
  {
   "cell_type": "code",
   "execution_count": 352,
   "metadata": {},
   "outputs": [
    {
     "data": {
      "text/html": [
       "<div>\n",
       "<style scoped>\n",
       "    .dataframe tbody tr th:only-of-type {\n",
       "        vertical-align: middle;\n",
       "    }\n",
       "\n",
       "    .dataframe tbody tr th {\n",
       "        vertical-align: top;\n",
       "    }\n",
       "\n",
       "    .dataframe thead th {\n",
       "        text-align: right;\n",
       "    }\n",
       "</style>\n",
       "<table border=\"1\" class=\"dataframe\">\n",
       "  <thead>\n",
       "    <tr style=\"text-align: right;\">\n",
       "      <th></th>\n",
       "      <th>word</th>\n",
       "      <th>label</th>\n",
       "      <th>predicted</th>\n",
       "    </tr>\n",
       "  </thead>\n",
       "  <tbody>\n",
       "    <tr>\n",
       "      <th>20</th>\n",
       "      <td>analytics</td>\n",
       "      <td>1</td>\n",
       "      <td>-1</td>\n",
       "    </tr>\n",
       "    <tr>\n",
       "      <th>21</th>\n",
       "      <td>machine</td>\n",
       "      <td>1</td>\n",
       "      <td>-1</td>\n",
       "    </tr>\n",
       "    <tr>\n",
       "      <th>22</th>\n",
       "      <td>learning</td>\n",
       "      <td>1</td>\n",
       "      <td>-1</td>\n",
       "    </tr>\n",
       "    <tr>\n",
       "      <th>23</th>\n",
       "      <td>bogazici</td>\n",
       "      <td>1</td>\n",
       "      <td>-1</td>\n",
       "    </tr>\n",
       "    <tr>\n",
       "      <th>24</th>\n",
       "      <td>besiktas</td>\n",
       "      <td>1</td>\n",
       "      <td>-1</td>\n",
       "    </tr>\n",
       "    <tr>\n",
       "      <th>25</th>\n",
       "      <td>maltepe</td>\n",
       "      <td>1</td>\n",
       "      <td>-1</td>\n",
       "    </tr>\n",
       "  </tbody>\n",
       "</table>\n",
       "</div>"
      ],
      "text/plain": [
       "         word  label  predicted\n",
       "20  analytics      1         -1\n",
       "21    machine      1         -1\n",
       "22   learning      1         -1\n",
       "23   bogazici      1         -1\n",
       "24   besiktas      1         -1\n",
       "25    maltepe      1         -1"
      ]
     },
     "execution_count": 352,
     "metadata": {},
     "output_type": "execute_result"
    }
   ],
   "source": [
    "df_diag[df_diag['label'] != df_diag['predicted']]"
   ]
  },
  {
   "cell_type": "code",
   "execution_count": 353,
   "metadata": {},
   "outputs": [
    {
     "data": {
      "text/plain": [
       "0.6"
      ]
     },
     "execution_count": 353,
     "metadata": {},
     "output_type": "execute_result"
    }
   ],
   "source": [
    "metrics.recall_score(y_test, y_predicted)"
   ]
  },
  {
   "cell_type": "code",
   "execution_count": 354,
   "metadata": {},
   "outputs": [
    {
     "data": {
      "text/plain": [
       "1.0"
      ]
     },
     "execution_count": 354,
     "metadata": {},
     "output_type": "execute_result"
    }
   ],
   "source": [
    "metrics.precision_score(y_test, y_predicted)"
   ]
  },
  {
   "cell_type": "markdown",
   "metadata": {},
   "source": [
    "- It seems the model is able to identify junk words perfectly but sometimes misclassifies actual words as junk words, too.\n",
    "- I will inspect which words existed in the training data"
   ]
  },
  {
   "cell_type": "code",
   "execution_count": 355,
   "metadata": {
    "scrolled": true
   },
   "outputs": [
    {
     "data": {
      "text/plain": [
       "8721     online\n",
       "14270      data\n",
       "23146      data\n",
       "Name: word, dtype: object"
      ]
     },
     "execution_count": 355,
     "metadata": {},
     "output_type": "execute_result"
    }
   ],
   "source": [
    "df_nov[df_nov['word'].isin(test_words)]['word']"
   ]
  },
  {
   "cell_type": "markdown",
   "metadata": {},
   "source": [
    "- Only 'data' and 'online' words were in the training data so at least no overfitting or a bias occured"
   ]
  },
  {
   "cell_type": "markdown",
   "metadata": {},
   "source": [
    "### Conclusion and Future Research"
   ]
  },
  {
   "cell_type": "markdown",
   "metadata": {},
   "source": [
    "- Because it was suggested by scikit-learn and implied by saying 'all words in the data are assumed to be actual words', that I should not use Outlier Detection, I used Local Outlier Factor method, instead of Anomaly Detection, even though I saw that some words in the data were actually junk words.\n",
    "- I was able to classify the junk words with 1.0 precision however doing so I also classified some actual words as junk.\n",
    "- I tried to tune by changing probability threshold of the model. It didn't improve the Accuracy.\n",
    "- More, additional features could be used but I think these two features were the best ones that distinguish junk from real ones.\n",
    "    - I thought about features such as repetition of letters but that information already resides within my no_of_unique_features_len feature."
   ]
  },
  {
   "cell_type": "code",
   "execution_count": null,
   "metadata": {},
   "outputs": [],
   "source": []
  }
 ],
 "metadata": {
  "kernelspec": {
   "display_name": "Python 3",
   "language": "python",
   "name": "python3"
  },
  "language_info": {
   "codemirror_mode": {
    "name": "ipython",
    "version": 3
   },
   "file_extension": ".py",
   "mimetype": "text/x-python",
   "name": "python",
   "nbconvert_exporter": "python",
   "pygments_lexer": "ipython3",
   "version": "3.7.7"
  },
  "varInspector": {
   "cols": {
    "lenName": 16,
    "lenType": 16,
    "lenVar": 40
   },
   "kernels_config": {
    "python": {
     "delete_cmd_postfix": "",
     "delete_cmd_prefix": "del ",
     "library": "var_list.py",
     "varRefreshCmd": "print(var_dic_list())"
    },
    "r": {
     "delete_cmd_postfix": ") ",
     "delete_cmd_prefix": "rm(",
     "library": "var_list.r",
     "varRefreshCmd": "cat(var_dic_list()) "
    }
   },
   "types_to_exclude": [
    "module",
    "function",
    "builtin_function_or_method",
    "instance",
    "_Feature"
   ],
   "window_display": false
  }
 },
 "nbformat": 4,
 "nbformat_minor": 4
}
